{
 "cells": [
  {
   "cell_type": "code",
   "execution_count": 1,
   "metadata": {},
   "outputs": [],
   "source": [
    "import pandas as pd"
   ]
  },
  {
   "cell_type": "code",
   "execution_count": 3,
   "metadata": {},
   "outputs": [
    {
     "data": {
      "text/html": [
       "<div>\n",
       "<style scoped>\n",
       "    .dataframe tbody tr th:only-of-type {\n",
       "        vertical-align: middle;\n",
       "    }\n",
       "\n",
       "    .dataframe tbody tr th {\n",
       "        vertical-align: top;\n",
       "    }\n",
       "\n",
       "    .dataframe thead th {\n",
       "        text-align: right;\n",
       "    }\n",
       "</style>\n",
       "<table border=\"1\" class=\"dataframe\">\n",
       "  <thead>\n",
       "    <tr style=\"text-align: right;\">\n",
       "      <th></th>\n",
       "      <th>year</th>\n",
       "      <th>datanum</th>\n",
       "      <th>serial</th>\n",
       "      <th>hhwt</th>\n",
       "      <th>statefip</th>\n",
       "      <th>countyfips</th>\n",
       "      <th>gq</th>\n",
       "      <th>pernum</th>\n",
       "      <th>perwt</th>\n",
       "      <th>sex</th>\n",
       "      <th>...</th>\n",
       "      <th>occ2010</th>\n",
       "      <th>ind</th>\n",
       "      <th>wkswork2</th>\n",
       "      <th>uhrswork</th>\n",
       "      <th>looking</th>\n",
       "      <th>availble</th>\n",
       "      <th>inctot</th>\n",
       "      <th>incwage</th>\n",
       "      <th>vetstat</th>\n",
       "      <th>vetstatd</th>\n",
       "    </tr>\n",
       "  </thead>\n",
       "  <tbody>\n",
       "    <tr>\n",
       "      <th>0</th>\n",
       "      <td>2000</td>\n",
       "      <td>3</td>\n",
       "      <td>218</td>\n",
       "      <td>600</td>\n",
       "      <td>california</td>\n",
       "      <td>NaN</td>\n",
       "      <td>households under 1970 definition</td>\n",
       "      <td>1</td>\n",
       "      <td>671</td>\n",
       "      <td>male</td>\n",
       "      <td>...</td>\n",
       "      <td>purchasing managers</td>\n",
       "      <td>607</td>\n",
       "      <td>n/a</td>\n",
       "      <td>n/a</td>\n",
       "      <td>no, did not look for work</td>\n",
       "      <td>n/a</td>\n",
       "      <td>24800</td>\n",
       "      <td>0</td>\n",
       "      <td>not a veteran</td>\n",
       "      <td>no military service</td>\n",
       "    </tr>\n",
       "    <tr>\n",
       "      <th>1</th>\n",
       "      <td>2000</td>\n",
       "      <td>3</td>\n",
       "      <td>226</td>\n",
       "      <td>600</td>\n",
       "      <td>california</td>\n",
       "      <td>NaN</td>\n",
       "      <td>households under 1970 definition</td>\n",
       "      <td>2</td>\n",
       "      <td>610</td>\n",
       "      <td>female</td>\n",
       "      <td>...</td>\n",
       "      <td>property, real estate, and community associati...</td>\n",
       "      <td>707</td>\n",
       "      <td>14-26 weeks</td>\n",
       "      <td>30</td>\n",
       "      <td>no, did not look for work</td>\n",
       "      <td>no, other reason(s)</td>\n",
       "      <td>103640</td>\n",
       "      <td>100000</td>\n",
       "      <td>not a veteran</td>\n",
       "      <td>no military service</td>\n",
       "    </tr>\n",
       "    <tr>\n",
       "      <th>2</th>\n",
       "      <td>2000</td>\n",
       "      <td>3</td>\n",
       "      <td>784</td>\n",
       "      <td>600</td>\n",
       "      <td>california</td>\n",
       "      <td>NaN</td>\n",
       "      <td>households under 1970 definition</td>\n",
       "      <td>2</td>\n",
       "      <td>618</td>\n",
       "      <td>female</td>\n",
       "      <td>...</td>\n",
       "      <td>unemployed, with no work experience in the las...</td>\n",
       "      <td>0</td>\n",
       "      <td>n/a</td>\n",
       "      <td>n/a</td>\n",
       "      <td>no, did not look for work</td>\n",
       "      <td>n/a</td>\n",
       "      <td>34000</td>\n",
       "      <td>0</td>\n",
       "      <td>not a veteran</td>\n",
       "      <td>no military service</td>\n",
       "    </tr>\n",
       "    <tr>\n",
       "      <th>3</th>\n",
       "      <td>2000</td>\n",
       "      <td>3</td>\n",
       "      <td>1033</td>\n",
       "      <td>600</td>\n",
       "      <td>california</td>\n",
       "      <td>NaN</td>\n",
       "      <td>households under 1970 definition</td>\n",
       "      <td>1</td>\n",
       "      <td>637</td>\n",
       "      <td>male</td>\n",
       "      <td>...</td>\n",
       "      <td>first-line supervisors of farming, fishing, an...</td>\n",
       "      <td>27</td>\n",
       "      <td>50-52 weeks</td>\n",
       "      <td>50</td>\n",
       "      <td>n/a</td>\n",
       "      <td>n/a</td>\n",
       "      <td>37500</td>\n",
       "      <td>37500</td>\n",
       "      <td>veteran</td>\n",
       "      <td>veteran</td>\n",
       "    </tr>\n",
       "    <tr>\n",
       "      <th>4</th>\n",
       "      <td>2000</td>\n",
       "      <td>3</td>\n",
       "      <td>1115</td>\n",
       "      <td>600</td>\n",
       "      <td>california</td>\n",
       "      <td>NaN</td>\n",
       "      <td>households under 1970 definition</td>\n",
       "      <td>1</td>\n",
       "      <td>579</td>\n",
       "      <td>female</td>\n",
       "      <td>...</td>\n",
       "      <td>property, real estate, and community associati...</td>\n",
       "      <td>707</td>\n",
       "      <td>50-52 weeks</td>\n",
       "      <td>16</td>\n",
       "      <td>no, did not look for work</td>\n",
       "      <td>no, other reason(s)</td>\n",
       "      <td>145000</td>\n",
       "      <td>120000</td>\n",
       "      <td>not a veteran</td>\n",
       "      <td>no military service</td>\n",
       "    </tr>\n",
       "  </tbody>\n",
       "</table>\n",
       "<p>5 rows × 39 columns</p>\n",
       "</div>"
      ],
      "text/plain": [
       "   year  datanum  serial  hhwt    statefip  countyfips  \\\n",
       "0  2000        3     218   600  california         NaN   \n",
       "1  2000        3     226   600  california         NaN   \n",
       "2  2000        3     784   600  california         NaN   \n",
       "3  2000        3    1033   600  california         NaN   \n",
       "4  2000        3    1115   600  california         NaN   \n",
       "\n",
       "                                 gq  pernum  perwt     sex  \\\n",
       "0  households under 1970 definition       1    671    male   \n",
       "1  households under 1970 definition       2    610  female   \n",
       "2  households under 1970 definition       2    618  female   \n",
       "3  households under 1970 definition       1    637    male   \n",
       "4  households under 1970 definition       1    579  female   \n",
       "\n",
       "            ...                                                      occ2010  \\\n",
       "0           ...                                          purchasing managers   \n",
       "1           ...            property, real estate, and community associati...   \n",
       "2           ...            unemployed, with no work experience in the las...   \n",
       "3           ...            first-line supervisors of farming, fishing, an...   \n",
       "4           ...            property, real estate, and community associati...   \n",
       "\n",
       "   ind     wkswork2 uhrswork                    looking             availble  \\\n",
       "0  607          n/a      n/a  no, did not look for work                  n/a   \n",
       "1  707  14-26 weeks       30  no, did not look for work  no, other reason(s)   \n",
       "2    0          n/a      n/a  no, did not look for work                  n/a   \n",
       "3   27  50-52 weeks       50                        n/a                  n/a   \n",
       "4  707  50-52 weeks       16  no, did not look for work  no, other reason(s)   \n",
       "\n",
       "   inctot incwage        vetstat                vetstatd  \n",
       "0   24800       0  not a veteran     no military service  \n",
       "1  103640  100000  not a veteran     no military service  \n",
       "2   34000       0  not a veteran     no military service  \n",
       "3   37500   37500        veteran                 veteran  \n",
       "4  145000  120000  not a veteran     no military service  \n",
       "\n",
       "[5 rows x 39 columns]"
      ]
     },
     "execution_count": 3,
     "metadata": {},
     "output_type": "execute_result"
    }
   ],
   "source": [
    "df = pd.read_stata(\"../data/raw/usa_00026.dta\")\n",
    "\n",
    "df.head()"
   ]
  },
  {
   "cell_type": "code",
   "execution_count": 35,
   "metadata": {},
   "outputs": [],
   "source": [
    "dff = df[df['empstat'] == 'unemployed'].groupby(['year','sex','looking'])['perwt'].sum().groupby(['year','sex']).apply(lambda x: x/x.sum()).to_frame()"
   ]
  },
  {
   "cell_type": "code",
   "execution_count": 45,
   "metadata": {},
   "outputs": [
    {
     "data": {
      "text/plain": [
       "<matplotlib.axes._subplots.AxesSubplot at 0xa782400>"
      ]
     },
     "execution_count": 45,
     "metadata": {},
     "output_type": "execute_result"
    },
    {
     "data": {
      "image/png": "[encoded data removed]",
      "text/plain": [
       "<Figure size 432x288 with 1 Axes>"
      ]
     },
     "metadata": {},
     "output_type": "display_data"
    }
   ],
   "source": [
    "%matplotlib inline\n",
    "dff.xs('no, did not look for work', level = 2).plot.bar()"
   ]
  },
  {
   "cell_type": "code",
   "execution_count": 48,
   "metadata": {},
   "outputs": [],
   "source": [
    "df['weightet_inc'] = df['perwt'] * df['inctot']"
   ]
  },
  {
   "cell_type": "code",
   "execution_count": 52,
   "metadata": {},
   "outputs": [
    {
     "data": {
      "text/plain": [
       "[some college, but less than 1 year, associate's degree, type not specified, no schooling completed, high school graduate or ged, 1 or more years of college credit, no degree, ..., grade 7, grade 5, grade 2, grade 1, nursery school, preschool]\n",
       "Length: 28\n",
       "Categories (28, object): [no schooling completed < nursery school to grade 4 < nursery school, preschool < kindergarten ... bachelor's degree < master's degree < professional degree beyond a bachelor's degree < doctoral degree]"
      ]
     },
     "execution_count": 52,
     "metadata": {},
     "output_type": "execute_result"
    }
   ],
   "source": [
    "df['educd'].unique()"
   ]
  },
  {
   "cell_type": "code",
   "execution_count": 61,
   "metadata": {},
   "outputs": [
    {
     "name": "stdout",
     "output_type": "stream",
     "text": [
      "Index(['no schooling completed', 'nursery school to grade 4',\n",
      "       'nursery school, preschool', 'kindergarten', 'grade 1', 'grade 2',\n",
      "       'grade 3', 'grade 4', 'grade 5 or 6', 'grade 5', 'grade 6',\n",
      "       'grade 7 or 8', 'grade 7', 'grade 8', 'grade 9', 'grade 10', 'grade 11',\n",
      "       '12th grade, no diploma', 'high school graduate or ged',\n",
      "       'regular high school diploma', 'ged or alternative credential',\n",
      "       'some college, but less than 1 year',\n",
      "       '1 or more years of college credit, no degree',\n",
      "       'associate's degree, type not specified', 'bachelor's degree',\n",
      "       'master's degree', 'professional degree beyond a bachelor's degree',\n",
      "       'doctoral degree'],\n",
      "      dtype='object')\n"
     ]
    }
   ],
   "source": [
    "print(df['educd'].cat.categories)"
   ]
  },
  {
   "cell_type": "code",
   "execution_count": 62,
   "metadata": {},
   "outputs": [
    {
     "data": {
      "text/html": [
       "<div>\n",
       "<style scoped>\n",
       "    .dataframe tbody tr th:only-of-type {\n",
       "        vertical-align: middle;\n",
       "    }\n",
       "\n",
       "    .dataframe tbody tr th {\n",
       "        vertical-align: top;\n",
       "    }\n",
       "\n",
       "    .dataframe thead th {\n",
       "        text-align: right;\n",
       "    }\n",
       "</style>\n",
       "<table border=\"1\" class=\"dataframe\">\n",
       "  <thead>\n",
       "    <tr style=\"text-align: right;\">\n",
       "      <th></th>\n",
       "      <th>year</th>\n",
       "      <th>datanum</th>\n",
       "      <th>serial</th>\n",
       "      <th>hhwt</th>\n",
       "      <th>statefip</th>\n",
       "      <th>countyfips</th>\n",
       "      <th>gq</th>\n",
       "      <th>pernum</th>\n",
       "      <th>perwt</th>\n",
       "      <th>sex</th>\n",
       "      <th>...</th>\n",
       "      <th>wkswork2</th>\n",
       "      <th>uhrswork</th>\n",
       "      <th>looking</th>\n",
       "      <th>availble</th>\n",
       "      <th>inctot</th>\n",
       "      <th>incwage</th>\n",
       "      <th>vetstat</th>\n",
       "      <th>vetstatd</th>\n",
       "      <th>weightet_inc</th>\n",
       "      <th>educ_attainment</th>\n",
       "    </tr>\n",
       "  </thead>\n",
       "  <tbody>\n",
       "    <tr>\n",
       "      <th>0</th>\n",
       "      <td>2000</td>\n",
       "      <td>3</td>\n",
       "      <td>218</td>\n",
       "      <td>600</td>\n",
       "      <td>california</td>\n",
       "      <td>NaN</td>\n",
       "      <td>households under 1970 definition</td>\n",
       "      <td>1</td>\n",
       "      <td>671</td>\n",
       "      <td>male</td>\n",
       "      <td>...</td>\n",
       "      <td>n/a</td>\n",
       "      <td>n/a</td>\n",
       "      <td>no, did not look for work</td>\n",
       "      <td>n/a</td>\n",
       "      <td>24800</td>\n",
       "      <td>0</td>\n",
       "      <td>not a veteran</td>\n",
       "      <td>no military service</td>\n",
       "      <td>16640800</td>\n",
       "      <td>some college</td>\n",
       "    </tr>\n",
       "    <tr>\n",
       "      <th>1</th>\n",
       "      <td>2000</td>\n",
       "      <td>3</td>\n",
       "      <td>226</td>\n",
       "      <td>600</td>\n",
       "      <td>california</td>\n",
       "      <td>NaN</td>\n",
       "      <td>households under 1970 definition</td>\n",
       "      <td>2</td>\n",
       "      <td>610</td>\n",
       "      <td>female</td>\n",
       "      <td>...</td>\n",
       "      <td>14-26 weeks</td>\n",
       "      <td>30</td>\n",
       "      <td>no, did not look for work</td>\n",
       "      <td>no, other reason(s)</td>\n",
       "      <td>103640</td>\n",
       "      <td>100000</td>\n",
       "      <td>not a veteran</td>\n",
       "      <td>no military service</td>\n",
       "      <td>63220400</td>\n",
       "      <td>some college</td>\n",
       "    </tr>\n",
       "    <tr>\n",
       "      <th>2</th>\n",
       "      <td>2000</td>\n",
       "      <td>3</td>\n",
       "      <td>784</td>\n",
       "      <td>600</td>\n",
       "      <td>california</td>\n",
       "      <td>NaN</td>\n",
       "      <td>households under 1970 definition</td>\n",
       "      <td>2</td>\n",
       "      <td>618</td>\n",
       "      <td>female</td>\n",
       "      <td>...</td>\n",
       "      <td>n/a</td>\n",
       "      <td>n/a</td>\n",
       "      <td>no, did not look for work</td>\n",
       "      <td>n/a</td>\n",
       "      <td>34000</td>\n",
       "      <td>0</td>\n",
       "      <td>not a veteran</td>\n",
       "      <td>no military service</td>\n",
       "      <td>21012000</td>\n",
       "      <td>no hs</td>\n",
       "    </tr>\n",
       "    <tr>\n",
       "      <th>3</th>\n",
       "      <td>2000</td>\n",
       "      <td>3</td>\n",
       "      <td>1033</td>\n",
       "      <td>600</td>\n",
       "      <td>california</td>\n",
       "      <td>NaN</td>\n",
       "      <td>households under 1970 definition</td>\n",
       "      <td>1</td>\n",
       "      <td>637</td>\n",
       "      <td>male</td>\n",
       "      <td>...</td>\n",
       "      <td>50-52 weeks</td>\n",
       "      <td>50</td>\n",
       "      <td>n/a</td>\n",
       "      <td>n/a</td>\n",
       "      <td>37500</td>\n",
       "      <td>37500</td>\n",
       "      <td>veteran</td>\n",
       "      <td>veteran</td>\n",
       "      <td>23887500</td>\n",
       "      <td>hs grad</td>\n",
       "    </tr>\n",
       "    <tr>\n",
       "      <th>4</th>\n",
       "      <td>2000</td>\n",
       "      <td>3</td>\n",
       "      <td>1115</td>\n",
       "      <td>600</td>\n",
       "      <td>california</td>\n",
       "      <td>NaN</td>\n",
       "      <td>households under 1970 definition</td>\n",
       "      <td>1</td>\n",
       "      <td>579</td>\n",
       "      <td>female</td>\n",
       "      <td>...</td>\n",
       "      <td>50-52 weeks</td>\n",
       "      <td>16</td>\n",
       "      <td>no, did not look for work</td>\n",
       "      <td>no, other reason(s)</td>\n",
       "      <td>145000</td>\n",
       "      <td>120000</td>\n",
       "      <td>not a veteran</td>\n",
       "      <td>no military service</td>\n",
       "      <td>83955000</td>\n",
       "      <td>some college</td>\n",
       "    </tr>\n",
       "  </tbody>\n",
       "</table>\n",
       "<p>5 rows × 41 columns</p>\n",
       "</div>"
      ],
      "text/plain": [
       "   year  datanum  serial  hhwt    statefip  countyfips  \\\n",
       "0  2000        3     218   600  california         NaN   \n",
       "1  2000        3     226   600  california         NaN   \n",
       "2  2000        3     784   600  california         NaN   \n",
       "3  2000        3    1033   600  california         NaN   \n",
       "4  2000        3    1115   600  california         NaN   \n",
       "\n",
       "                                 gq  pernum  perwt     sex       ...        \\\n",
       "0  households under 1970 definition       1    671    male       ...         \n",
       "1  households under 1970 definition       2    610  female       ...         \n",
       "2  households under 1970 definition       2    618  female       ...         \n",
       "3  households under 1970 definition       1    637    male       ...         \n",
       "4  households under 1970 definition       1    579  female       ...         \n",
       "\n",
       "      wkswork2 uhrswork                    looking             availble  \\\n",
       "0          n/a      n/a  no, did not look for work                  n/a   \n",
       "1  14-26 weeks       30  no, did not look for work  no, other reason(s)   \n",
       "2          n/a      n/a  no, did not look for work                  n/a   \n",
       "3  50-52 weeks       50                        n/a                  n/a   \n",
       "4  50-52 weeks       16  no, did not look for work  no, other reason(s)   \n",
       "\n",
       "   inctot incwage        vetstat                vetstatd weightet_inc  \\\n",
       "0   24800       0  not a veteran     no military service     16640800   \n",
       "1  103640  100000  not a veteran     no military service     63220400   \n",
       "2   34000       0  not a veteran     no military service     21012000   \n",
       "3   37500   37500        veteran                 veteran     23887500   \n",
       "4  145000  120000  not a veteran     no military service     83955000   \n",
       "\n",
       "  educ_attainment  \n",
       "0    some college  \n",
       "1    some college  \n",
       "2           no hs  \n",
       "3         hs grad  \n",
       "4    some college  \n",
       "\n",
       "[5 rows x 41 columns]"
      ]
     },
     "execution_count": 62,
     "metadata": {},
     "output_type": "execute_result"
    }
   ],
   "source": [
    "df.loc[(df['educd'] > \"bachelor's degree\"),'educ_attainment'] = 'advanced degree'\n",
    "df.loc[(df['educd'] == \"bachelor's degree\"),'educ_attainment'] = 'bachelor'\n",
    "df.loc[(df['educd'] < \"bachelor's degree\"),'educ_attainment'] = 'some college'\n",
    "df.loc[(df['educd'] <= \"ged or alternative credential\"),'educ_attainment'] = 'hs grad'\n",
    "df.loc[(df['educd'] < \"high school graduate or ged\"),'educ_attainment'] = 'no hs'\n",
    "\n",
    "df['educ_attainment'] = pd.Categorical(df['educ_attainment'], categories=['no hs', 'hs grad', 'some college', 'bachelor', 'advanced degree'], ordered = True)\n",
    "\n",
    "df.head()"
   ]
  },
  {
   "cell_type": "code",
   "execution_count": 67,
   "metadata": {},
   "outputs": [
    {
     "data": {
      "text/plain": [
       "Index(['n/a', 'born abroad of american parents', 'naturalized citizen',\n",
       "       'not a citizen'],\n",
       "      dtype='object')"
      ]
     },
     "execution_count": 67,
     "metadata": {},
     "output_type": "execute_result"
    }
   ],
   "source": [
    "df['citizen'].cat.categories"
   ]
  },
  {
   "cell_type": "code",
   "execution_count": 68,
   "metadata": {},
   "outputs": [],
   "source": [
    "df['nativity'] = 'foreign born'\n",
    "df.loc[(df['citizen'] < 'naturalized citizen'), 'nativity'] = 'native'"
   ]
  },
  {
   "cell_type": "code",
   "execution_count": 77,
   "metadata": {},
   "outputs": [],
   "source": [
    "education = df.groupby(['year','nativity','educ_attainment'])['perwt'].sum().to_frame()\n",
    "education_pct = education.groupby(['year', 'nativity']).apply(lambda x: x/x.sum())"
   ]
  },
  {
   "cell_type": "code",
   "execution_count": 79,
   "metadata": {},
   "outputs": [
    {
     "data": {
      "text/html": [
       "<style  type=\"text/css\" >\n",
       "</style>  \n",
       "<table id=\"T_3c355352_abc1_11e8_b9eb_0050b6701502\" > \n",
       "<thead>    <tr> \n",
       "        <th class=\"blank\" ></th> \n",
       "        <th class=\"blank\" ></th> \n",
       "        <th class=\"blank level0\" ></th> \n",
       "        <th class=\"col_heading level0 col0\" >perwt</th> \n",
       "    </tr>    <tr> \n",
       "        <th class=\"index_name level0\" >year</th> \n",
       "        <th class=\"index_name level1\" >nativity</th> \n",
       "        <th class=\"index_name level2\" >educ_attainment</th> \n",
       "        <th class=\"blank\" ></th> \n",
       "    </tr></thead> \n",
       "<tbody>    <tr> \n",
       "        <th id=\"T_3c355352_abc1_11e8_b9eb_0050b6701502level0_row0\" class=\"row_heading level0 row0\" rowspan=10>2000</th> \n",
       "        <th id=\"T_3c355352_abc1_11e8_b9eb_0050b6701502level1_row0\" class=\"row_heading level1 row0\" rowspan=5>foreign born</th> \n",
       "        <th id=\"T_3c355352_abc1_11e8_b9eb_0050b6701502level2_row0\" class=\"row_heading level2 row0\" >no hs</th> \n",
       "        <td id=\"T_3c355352_abc1_11e8_b9eb_0050b6701502row0_col0\" class=\"data row0 col0\" >55.64%</td> \n",
       "    </tr>    <tr> \n",
       "        <th id=\"T_3c355352_abc1_11e8_b9eb_0050b6701502level2_row1\" class=\"row_heading level2 row1\" >hs grad</th> \n",
       "        <td id=\"T_3c355352_abc1_11e8_b9eb_0050b6701502row1_col0\" class=\"data row1 col0\" >10.13%</td> \n",
       "    </tr>    <tr> \n",
       "        <th id=\"T_3c355352_abc1_11e8_b9eb_0050b6701502level2_row2\" class=\"row_heading level2 row2\" >some college</th> \n",
       "        <td id=\"T_3c355352_abc1_11e8_b9eb_0050b6701502row2_col0\" class=\"data row2 col0\" >24.17%</td> \n",
       "    </tr>    <tr> \n",
       "        <th id=\"T_3c355352_abc1_11e8_b9eb_0050b6701502level2_row3\" class=\"row_heading level2 row3\" >bachelor</th> \n",
       "        <td id=\"T_3c355352_abc1_11e8_b9eb_0050b6701502row3_col0\" class=\"data row3 col0\" >5.80%</td> \n",
       "    </tr>    <tr> \n",
       "        <th id=\"T_3c355352_abc1_11e8_b9eb_0050b6701502level2_row4\" class=\"row_heading level2 row4\" >advanced degree</th> \n",
       "        <td id=\"T_3c355352_abc1_11e8_b9eb_0050b6701502row4_col0\" class=\"data row4 col0\" >4.26%</td> \n",
       "    </tr>    <tr> \n",
       "        <th id=\"T_3c355352_abc1_11e8_b9eb_0050b6701502level1_row5\" class=\"row_heading level1 row5\" rowspan=5>native</th> \n",
       "        <th id=\"T_3c355352_abc1_11e8_b9eb_0050b6701502level2_row5\" class=\"row_heading level2 row5\" >no hs</th> \n",
       "        <td id=\"T_3c355352_abc1_11e8_b9eb_0050b6701502row5_col0\" class=\"data row5 col0\" >14.09%</td> \n",
       "    </tr>    <tr> \n",
       "        <th id=\"T_3c355352_abc1_11e8_b9eb_0050b6701502level2_row6\" class=\"row_heading level2 row6\" >hs grad</th> \n",
       "        <td id=\"T_3c355352_abc1_11e8_b9eb_0050b6701502row6_col0\" class=\"data row6 col0\" >27.66%</td> \n",
       "    </tr>    <tr> \n",
       "        <th id=\"T_3c355352_abc1_11e8_b9eb_0050b6701502level2_row7\" class=\"row_heading level2 row7\" >some college</th> \n",
       "        <td id=\"T_3c355352_abc1_11e8_b9eb_0050b6701502row7_col0\" class=\"data row7 col0\" >29.08%</td> \n",
       "    </tr>    <tr> \n",
       "        <th id=\"T_3c355352_abc1_11e8_b9eb_0050b6701502level2_row8\" class=\"row_heading level2 row8\" >bachelor</th> \n",
       "        <td id=\"T_3c355352_abc1_11e8_b9eb_0050b6701502row8_col0\" class=\"data row8 col0\" >21.93%</td> \n",
       "    </tr>    <tr> \n",
       "        <th id=\"T_3c355352_abc1_11e8_b9eb_0050b6701502level2_row9\" class=\"row_heading level2 row9\" >advanced degree</th> \n",
       "        <td id=\"T_3c355352_abc1_11e8_b9eb_0050b6701502row9_col0\" class=\"data row9 col0\" >7.24%</td> \n",
       "    </tr>    <tr> \n",
       "        <th id=\"T_3c355352_abc1_11e8_b9eb_0050b6701502level0_row10\" class=\"row_heading level0 row10\" rowspan=10>2001</th> \n",
       "        <th id=\"T_3c355352_abc1_11e8_b9eb_0050b6701502level1_row10\" class=\"row_heading level1 row10\" rowspan=5>foreign born</th> \n",
       "        <th id=\"T_3c355352_abc1_11e8_b9eb_0050b6701502level2_row10\" class=\"row_heading level2 row10\" >no hs</th> \n",
       "        <td id=\"T_3c355352_abc1_11e8_b9eb_0050b6701502row10_col0\" class=\"data row10 col0\" >44.04%</td> \n",
       "    </tr>    <tr> \n",
       "        <th id=\"T_3c355352_abc1_11e8_b9eb_0050b6701502level2_row11\" class=\"row_heading level2 row11\" >hs grad</th> \n",
       "        <td id=\"T_3c355352_abc1_11e8_b9eb_0050b6701502row11_col0\" class=\"data row11 col0\" >16.14%</td> \n",
       "    </tr>    <tr> \n",
       "        <th id=\"T_3c355352_abc1_11e8_b9eb_0050b6701502level2_row12\" class=\"row_heading level2 row12\" >some college</th> \n",
       "        <td id=\"T_3c355352_abc1_11e8_b9eb_0050b6701502row12_col0\" class=\"data row12 col0\" >21.78%</td> \n",
       "    </tr>    <tr> \n",
       "        <th id=\"T_3c355352_abc1_11e8_b9eb_0050b6701502level2_row13\" class=\"row_heading level2 row13\" >bachelor</th> \n",
       "        <td id=\"T_3c355352_abc1_11e8_b9eb_0050b6701502row13_col0\" class=\"data row13 col0\" >12.80%</td> \n",
       "    </tr>    <tr> \n",
       "        <th id=\"T_3c355352_abc1_11e8_b9eb_0050b6701502level2_row14\" class=\"row_heading level2 row14\" >advanced degree</th> \n",
       "        <td id=\"T_3c355352_abc1_11e8_b9eb_0050b6701502row14_col0\" class=\"data row14 col0\" >5.24%</td> \n",
       "    </tr>    <tr> \n",
       "        <th id=\"T_3c355352_abc1_11e8_b9eb_0050b6701502level1_row15\" class=\"row_heading level1 row15\" rowspan=5>native</th> \n",
       "        <th id=\"T_3c355352_abc1_11e8_b9eb_0050b6701502level2_row15\" class=\"row_heading level2 row15\" >no hs</th> \n",
       "        <td id=\"T_3c355352_abc1_11e8_b9eb_0050b6701502row15_col0\" class=\"data row15 col0\" >16.70%</td> \n",
       "    </tr>    <tr> \n",
       "        <th id=\"T_3c355352_abc1_11e8_b9eb_0050b6701502level2_row16\" class=\"row_heading level2 row16\" >hs grad</th> \n",
       "        <td id=\"T_3c355352_abc1_11e8_b9eb_0050b6701502row16_col0\" class=\"data row16 col0\" >21.88%</td> \n",
       "    </tr>    <tr> \n",
       "        <th id=\"T_3c355352_abc1_11e8_b9eb_0050b6701502level2_row17\" class=\"row_heading level2 row17\" >some college</th> \n",
       "        <td id=\"T_3c355352_abc1_11e8_b9eb_0050b6701502row17_col0\" class=\"data row17 col0\" >33.43%</td> \n",
       "    </tr>    <tr> \n",
       "        <th id=\"T_3c355352_abc1_11e8_b9eb_0050b6701502level2_row18\" class=\"row_heading level2 row18\" >bachelor</th> \n",
       "        <td id=\"T_3c355352_abc1_11e8_b9eb_0050b6701502row18_col0\" class=\"data row18 col0\" >15.09%</td> \n",
       "    </tr>    <tr> \n",
       "        <th id=\"T_3c355352_abc1_11e8_b9eb_0050b6701502level2_row19\" class=\"row_heading level2 row19\" >advanced degree</th> \n",
       "        <td id=\"T_3c355352_abc1_11e8_b9eb_0050b6701502row19_col0\" class=\"data row19 col0\" >12.90%</td> \n",
       "    </tr>    <tr> \n",
       "        <th id=\"T_3c355352_abc1_11e8_b9eb_0050b6701502level0_row20\" class=\"row_heading level0 row20\" rowspan=10>2002</th> \n",
       "        <th id=\"T_3c355352_abc1_11e8_b9eb_0050b6701502level1_row20\" class=\"row_heading level1 row20\" rowspan=5>foreign born</th> \n",
       "        <th id=\"T_3c355352_abc1_11e8_b9eb_0050b6701502level2_row20\" class=\"row_heading level2 row20\" >no hs</th> \n",
       "        <td id=\"T_3c355352_abc1_11e8_b9eb_0050b6701502row20_col0\" class=\"data row20 col0\" >42.39%</td> \n",
       "    </tr>    <tr> \n",
       "        <th id=\"T_3c355352_abc1_11e8_b9eb_0050b6701502level2_row21\" class=\"row_heading level2 row21\" >hs grad</th> \n",
       "        <td id=\"T_3c355352_abc1_11e8_b9eb_0050b6701502row21_col0\" class=\"data row21 col0\" >22.92%</td> \n",
       "    </tr>    <tr> \n",
       "        <th id=\"T_3c355352_abc1_11e8_b9eb_0050b6701502level2_row22\" class=\"row_heading level2 row22\" >some college</th> \n",
       "        <td id=\"T_3c355352_abc1_11e8_b9eb_0050b6701502row22_col0\" class=\"data row22 col0\" >15.10%</td> \n",
       "    </tr>    <tr> \n",
       "        <th id=\"T_3c355352_abc1_11e8_b9eb_0050b6701502level2_row23\" class=\"row_heading level2 row23\" >bachelor</th> \n",
       "        <td id=\"T_3c355352_abc1_11e8_b9eb_0050b6701502row23_col0\" class=\"data row23 col0\" >12.42%</td> \n",
       "    </tr>    <tr> \n",
       "        <th id=\"T_3c355352_abc1_11e8_b9eb_0050b6701502level2_row24\" class=\"row_heading level2 row24\" >advanced degree</th> \n",
       "        <td id=\"T_3c355352_abc1_11e8_b9eb_0050b6701502row24_col0\" class=\"data row24 col0\" >7.16%</td> \n",
       "    </tr>    <tr> \n",
       "        <th id=\"T_3c355352_abc1_11e8_b9eb_0050b6701502level1_row25\" class=\"row_heading level1 row25\" rowspan=5>native</th> \n",
       "        <th id=\"T_3c355352_abc1_11e8_b9eb_0050b6701502level2_row25\" class=\"row_heading level2 row25\" >no hs</th> \n",
       "        <td id=\"T_3c355352_abc1_11e8_b9eb_0050b6701502row25_col0\" class=\"data row25 col0\" >16.68%</td> \n",
       "    </tr>    <tr> \n",
       "        <th id=\"T_3c355352_abc1_11e8_b9eb_0050b6701502level2_row26\" class=\"row_heading level2 row26\" >hs grad</th> \n",
       "        <td id=\"T_3c355352_abc1_11e8_b9eb_0050b6701502row26_col0\" class=\"data row26 col0\" >21.48%</td> \n",
       "    </tr>    <tr> \n",
       "        <th id=\"T_3c355352_abc1_11e8_b9eb_0050b6701502level2_row27\" class=\"row_heading level2 row27\" >some college</th> \n",
       "        <td id=\"T_3c355352_abc1_11e8_b9eb_0050b6701502row27_col0\" class=\"data row27 col0\" >33.04%</td> \n",
       "    </tr>    <tr> \n",
       "        <th id=\"T_3c355352_abc1_11e8_b9eb_0050b6701502level2_row28\" class=\"row_heading level2 row28\" >bachelor</th> \n",
       "        <td id=\"T_3c355352_abc1_11e8_b9eb_0050b6701502row28_col0\" class=\"data row28 col0\" >14.94%</td> \n",
       "    </tr>    <tr> \n",
       "        <th id=\"T_3c355352_abc1_11e8_b9eb_0050b6701502level2_row29\" class=\"row_heading level2 row29\" >advanced degree</th> \n",
       "        <td id=\"T_3c355352_abc1_11e8_b9eb_0050b6701502row29_col0\" class=\"data row29 col0\" >13.87%</td> \n",
       "    </tr>    <tr> \n",
       "        <th id=\"T_3c355352_abc1_11e8_b9eb_0050b6701502level0_row30\" class=\"row_heading level0 row30\" rowspan=10>2003</th> \n",
       "        <th id=\"T_3c355352_abc1_11e8_b9eb_0050b6701502level1_row30\" class=\"row_heading level1 row30\" rowspan=5>foreign born</th> \n",
       "        <th id=\"T_3c355352_abc1_11e8_b9eb_0050b6701502level2_row30\" class=\"row_heading level2 row30\" >no hs</th> \n",
       "        <td id=\"T_3c355352_abc1_11e8_b9eb_0050b6701502row30_col0\" class=\"data row30 col0\" >41.65%</td> \n",
       "    </tr>    <tr> \n",
       "        <th id=\"T_3c355352_abc1_11e8_b9eb_0050b6701502level2_row31\" class=\"row_heading level2 row31\" >hs grad</th> \n",
       "        <td id=\"T_3c355352_abc1_11e8_b9eb_0050b6701502row31_col0\" class=\"data row31 col0\" >17.82%</td> \n",
       "    </tr>    <tr> \n",
       "        <th id=\"T_3c355352_abc1_11e8_b9eb_0050b6701502level2_row32\" class=\"row_heading level2 row32\" >some college</th> \n",
       "        <td id=\"T_3c355352_abc1_11e8_b9eb_0050b6701502row32_col0\" class=\"data row32 col0\" >16.42%</td> \n",
       "    </tr>    <tr> \n",
       "        <th id=\"T_3c355352_abc1_11e8_b9eb_0050b6701502level2_row33\" class=\"row_heading level2 row33\" >bachelor</th> \n",
       "        <td id=\"T_3c355352_abc1_11e8_b9eb_0050b6701502row33_col0\" class=\"data row33 col0\" >15.11%</td> \n",
       "    </tr>    <tr> \n",
       "        <th id=\"T_3c355352_abc1_11e8_b9eb_0050b6701502level2_row34\" class=\"row_heading level2 row34\" >advanced degree</th> \n",
       "        <td id=\"T_3c355352_abc1_11e8_b9eb_0050b6701502row34_col0\" class=\"data row34 col0\" >8.99%</td> \n",
       "    </tr>    <tr> \n",
       "        <th id=\"T_3c355352_abc1_11e8_b9eb_0050b6701502level1_row35\" class=\"row_heading level1 row35\" rowspan=5>native</th> \n",
       "        <th id=\"T_3c355352_abc1_11e8_b9eb_0050b6701502level2_row35\" class=\"row_heading level2 row35\" >no hs</th> \n",
       "        <td id=\"T_3c355352_abc1_11e8_b9eb_0050b6701502row35_col0\" class=\"data row35 col0\" >13.47%</td> \n",
       "    </tr>    <tr> \n",
       "        <th id=\"T_3c355352_abc1_11e8_b9eb_0050b6701502level2_row36\" class=\"row_heading level2 row36\" >hs grad</th> \n",
       "        <td id=\"T_3c355352_abc1_11e8_b9eb_0050b6701502row36_col0\" class=\"data row36 col0\" >27.23%</td> \n",
       "    </tr>    <tr> \n",
       "        <th id=\"T_3c355352_abc1_11e8_b9eb_0050b6701502level2_row37\" class=\"row_heading level2 row37\" >some college</th> \n",
       "        <td id=\"T_3c355352_abc1_11e8_b9eb_0050b6701502row37_col0\" class=\"data row37 col0\" >31.21%</td> \n",
       "    </tr>    <tr> \n",
       "        <th id=\"T_3c355352_abc1_11e8_b9eb_0050b6701502level2_row38\" class=\"row_heading level2 row38\" >bachelor</th> \n",
       "        <td id=\"T_3c355352_abc1_11e8_b9eb_0050b6701502row38_col0\" class=\"data row38 col0\" >15.65%</td> \n",
       "    </tr>    <tr> \n",
       "        <th id=\"T_3c355352_abc1_11e8_b9eb_0050b6701502level2_row39\" class=\"row_heading level2 row39\" >advanced degree</th> \n",
       "        <td id=\"T_3c355352_abc1_11e8_b9eb_0050b6701502row39_col0\" class=\"data row39 col0\" >12.44%</td> \n",
       "    </tr>    <tr> \n",
       "        <th id=\"T_3c355352_abc1_11e8_b9eb_0050b6701502level0_row40\" class=\"row_heading level0 row40\" rowspan=10>2004</th> \n",
       "        <th id=\"T_3c355352_abc1_11e8_b9eb_0050b6701502level1_row40\" class=\"row_heading level1 row40\" rowspan=5>foreign born</th> \n",
       "        <th id=\"T_3c355352_abc1_11e8_b9eb_0050b6701502level2_row40\" class=\"row_heading level2 row40\" >no hs</th> \n",
       "        <td id=\"T_3c355352_abc1_11e8_b9eb_0050b6701502row40_col0\" class=\"data row40 col0\" >42.15%</td> \n",
       "    </tr>    <tr> \n",
       "        <th id=\"T_3c355352_abc1_11e8_b9eb_0050b6701502level2_row41\" class=\"row_heading level2 row41\" >hs grad</th> \n",
       "        <td id=\"T_3c355352_abc1_11e8_b9eb_0050b6701502row41_col0\" class=\"data row41 col0\" >18.91%</td> \n",
       "    </tr>    <tr> \n",
       "        <th id=\"T_3c355352_abc1_11e8_b9eb_0050b6701502level2_row42\" class=\"row_heading level2 row42\" >some college</th> \n",
       "        <td id=\"T_3c355352_abc1_11e8_b9eb_0050b6701502row42_col0\" class=\"data row42 col0\" >15.21%</td> \n",
       "    </tr>    <tr> \n",
       "        <th id=\"T_3c355352_abc1_11e8_b9eb_0050b6701502level2_row43\" class=\"row_heading level2 row43\" >bachelor</th> \n",
       "        <td id=\"T_3c355352_abc1_11e8_b9eb_0050b6701502row43_col0\" class=\"data row43 col0\" >17.16%</td> \n",
       "    </tr>    <tr> \n",
       "        <th id=\"T_3c355352_abc1_11e8_b9eb_0050b6701502level2_row44\" class=\"row_heading level2 row44\" >advanced degree</th> \n",
       "        <td id=\"T_3c355352_abc1_11e8_b9eb_0050b6701502row44_col0\" class=\"data row44 col0\" >6.57%</td> \n",
       "    </tr>    <tr> \n",
       "        <th id=\"T_3c355352_abc1_11e8_b9eb_0050b6701502level1_row45\" class=\"row_heading level1 row45\" rowspan=5>native</th> \n",
       "        <th id=\"T_3c355352_abc1_11e8_b9eb_0050b6701502level2_row45\" class=\"row_heading level2 row45\" >no hs</th> \n",
       "        <td id=\"T_3c355352_abc1_11e8_b9eb_0050b6701502row45_col0\" class=\"data row45 col0\" >13.45%</td> \n",
       "    </tr>    <tr> \n",
       "        <th id=\"T_3c355352_abc1_11e8_b9eb_0050b6701502level2_row46\" class=\"row_heading level2 row46\" >hs grad</th> \n",
       "        <td id=\"T_3c355352_abc1_11e8_b9eb_0050b6701502row46_col0\" class=\"data row46 col0\" >23.40%</td> \n",
       "    </tr>    <tr> \n",
       "        <th id=\"T_3c355352_abc1_11e8_b9eb_0050b6701502level2_row47\" class=\"row_heading level2 row47\" >some college</th> \n",
       "        <td id=\"T_3c355352_abc1_11e8_b9eb_0050b6701502row47_col0\" class=\"data row47 col0\" >33.87%</td> \n",
       "    </tr>    <tr> \n",
       "        <th id=\"T_3c355352_abc1_11e8_b9eb_0050b6701502level2_row48\" class=\"row_heading level2 row48\" >bachelor</th> \n",
       "        <td id=\"T_3c355352_abc1_11e8_b9eb_0050b6701502row48_col0\" class=\"data row48 col0\" >15.41%</td> \n",
       "    </tr>    <tr> \n",
       "        <th id=\"T_3c355352_abc1_11e8_b9eb_0050b6701502level2_row49\" class=\"row_heading level2 row49\" >advanced degree</th> \n",
       "        <td id=\"T_3c355352_abc1_11e8_b9eb_0050b6701502row49_col0\" class=\"data row49 col0\" >13.88%</td> \n",
       "    </tr>    <tr> \n",
       "        <th id=\"T_3c355352_abc1_11e8_b9eb_0050b6701502level0_row50\" class=\"row_heading level0 row50\" rowspan=10>2005</th> \n",
       "        <th id=\"T_3c355352_abc1_11e8_b9eb_0050b6701502level1_row50\" class=\"row_heading level1 row50\" rowspan=5>foreign born</th> \n",
       "        <th id=\"T_3c355352_abc1_11e8_b9eb_0050b6701502level2_row50\" class=\"row_heading level2 row50\" >no hs</th> \n",
       "        <td id=\"T_3c355352_abc1_11e8_b9eb_0050b6701502row50_col0\" class=\"data row50 col0\" >41.73%</td> \n",
       "    </tr>    <tr> \n",
       "        <th id=\"T_3c355352_abc1_11e8_b9eb_0050b6701502level2_row51\" class=\"row_heading level2 row51\" >hs grad</th> \n",
       "        <td id=\"T_3c355352_abc1_11e8_b9eb_0050b6701502row51_col0\" class=\"data row51 col0\" >21.21%</td> \n",
       "    </tr>    <tr> \n",
       "        <th id=\"T_3c355352_abc1_11e8_b9eb_0050b6701502level2_row52\" class=\"row_heading level2 row52\" >some college</th> \n",
       "        <td id=\"T_3c355352_abc1_11e8_b9eb_0050b6701502row52_col0\" class=\"data row52 col0\" >15.59%</td> \n",
       "    </tr>    <tr> \n",
       "        <th id=\"T_3c355352_abc1_11e8_b9eb_0050b6701502level2_row53\" class=\"row_heading level2 row53\" >bachelor</th> \n",
       "        <td id=\"T_3c355352_abc1_11e8_b9eb_0050b6701502row53_col0\" class=\"data row53 col0\" >11.54%</td> \n",
       "    </tr>    <tr> \n",
       "        <th id=\"T_3c355352_abc1_11e8_b9eb_0050b6701502level2_row54\" class=\"row_heading level2 row54\" >advanced degree</th> \n",
       "        <td id=\"T_3c355352_abc1_11e8_b9eb_0050b6701502row54_col0\" class=\"data row54 col0\" >9.92%</td> \n",
       "    </tr>    <tr> \n",
       "        <th id=\"T_3c355352_abc1_11e8_b9eb_0050b6701502level1_row55\" class=\"row_heading level1 row55\" rowspan=5>native</th> \n",
       "        <th id=\"T_3c355352_abc1_11e8_b9eb_0050b6701502level2_row55\" class=\"row_heading level2 row55\" >no hs</th> \n",
       "        <td id=\"T_3c355352_abc1_11e8_b9eb_0050b6701502row55_col0\" class=\"data row55 col0\" >12.18%</td> \n",
       "    </tr>    <tr> \n",
       "        <th id=\"T_3c355352_abc1_11e8_b9eb_0050b6701502level2_row56\" class=\"row_heading level2 row56\" >hs grad</th> \n",
       "        <td id=\"T_3c355352_abc1_11e8_b9eb_0050b6701502row56_col0\" class=\"data row56 col0\" >22.28%</td> \n",
       "    </tr>    <tr> \n",
       "        <th id=\"T_3c355352_abc1_11e8_b9eb_0050b6701502level2_row57\" class=\"row_heading level2 row57\" >some college</th> \n",
       "        <td id=\"T_3c355352_abc1_11e8_b9eb_0050b6701502row57_col0\" class=\"data row57 col0\" >33.11%</td> \n",
       "    </tr>    <tr> \n",
       "        <th id=\"T_3c355352_abc1_11e8_b9eb_0050b6701502level2_row58\" class=\"row_heading level2 row58\" >bachelor</th> \n",
       "        <td id=\"T_3c355352_abc1_11e8_b9eb_0050b6701502row58_col0\" class=\"data row58 col0\" >17.58%</td> \n",
       "    </tr>    <tr> \n",
       "        <th id=\"T_3c355352_abc1_11e8_b9eb_0050b6701502level2_row59\" class=\"row_heading level2 row59\" >advanced degree</th> \n",
       "        <td id=\"T_3c355352_abc1_11e8_b9eb_0050b6701502row59_col0\" class=\"data row59 col0\" >14.85%</td> \n",
       "    </tr>    <tr> \n",
       "        <th id=\"T_3c355352_abc1_11e8_b9eb_0050b6701502level0_row60\" class=\"row_heading level0 row60\" rowspan=10>2006</th> \n",
       "        <th id=\"T_3c355352_abc1_11e8_b9eb_0050b6701502level1_row60\" class=\"row_heading level1 row60\" rowspan=5>foreign born</th> \n",
       "        <th id=\"T_3c355352_abc1_11e8_b9eb_0050b6701502level2_row60\" class=\"row_heading level2 row60\" >no hs</th> \n",
       "        <td id=\"T_3c355352_abc1_11e8_b9eb_0050b6701502row60_col0\" class=\"data row60 col0\" >39.80%</td> \n",
       "    </tr>    <tr> \n",
       "        <th id=\"T_3c355352_abc1_11e8_b9eb_0050b6701502level2_row61\" class=\"row_heading level2 row61\" >hs grad</th> \n",
       "        <td id=\"T_3c355352_abc1_11e8_b9eb_0050b6701502row61_col0\" class=\"data row61 col0\" >20.88%</td> \n",
       "    </tr>    <tr> \n",
       "        <th id=\"T_3c355352_abc1_11e8_b9eb_0050b6701502level2_row62\" class=\"row_heading level2 row62\" >some college</th> \n",
       "        <td id=\"T_3c355352_abc1_11e8_b9eb_0050b6701502row62_col0\" class=\"data row62 col0\" >14.96%</td> \n",
       "    </tr>    <tr> \n",
       "        <th id=\"T_3c355352_abc1_11e8_b9eb_0050b6701502level2_row63\" class=\"row_heading level2 row63\" >bachelor</th> \n",
       "        <td id=\"T_3c355352_abc1_11e8_b9eb_0050b6701502row63_col0\" class=\"data row63 col0\" >14.81%</td> \n",
       "    </tr>    <tr> \n",
       "        <th id=\"T_3c355352_abc1_11e8_b9eb_0050b6701502level2_row64\" class=\"row_heading level2 row64\" >advanced degree</th> \n",
       "        <td id=\"T_3c355352_abc1_11e8_b9eb_0050b6701502row64_col0\" class=\"data row64 col0\" >9.55%</td> \n",
       "    </tr>    <tr> \n",
       "        <th id=\"T_3c355352_abc1_11e8_b9eb_0050b6701502level1_row65\" class=\"row_heading level1 row65\" rowspan=5>native</th> \n",
       "        <th id=\"T_3c355352_abc1_11e8_b9eb_0050b6701502level2_row65\" class=\"row_heading level2 row65\" >no hs</th> \n",
       "        <td id=\"T_3c355352_abc1_11e8_b9eb_0050b6701502row65_col0\" class=\"data row65 col0\" >11.79%</td> \n",
       "    </tr>    <tr> \n",
       "        <th id=\"T_3c355352_abc1_11e8_b9eb_0050b6701502level2_row66\" class=\"row_heading level2 row66\" >hs grad</th> \n",
       "        <td id=\"T_3c355352_abc1_11e8_b9eb_0050b6701502row66_col0\" class=\"data row66 col0\" >24.97%</td> \n",
       "    </tr>    <tr> \n",
       "        <th id=\"T_3c355352_abc1_11e8_b9eb_0050b6701502level2_row67\" class=\"row_heading level2 row67\" >some college</th> \n",
       "        <td id=\"T_3c355352_abc1_11e8_b9eb_0050b6701502row67_col0\" class=\"data row67 col0\" >31.39%</td> \n",
       "    </tr>    <tr> \n",
       "        <th id=\"T_3c355352_abc1_11e8_b9eb_0050b6701502level2_row68\" class=\"row_heading level2 row68\" >bachelor</th> \n",
       "        <td id=\"T_3c355352_abc1_11e8_b9eb_0050b6701502row68_col0\" class=\"data row68 col0\" >16.85%</td> \n",
       "    </tr>    <tr> \n",
       "        <th id=\"T_3c355352_abc1_11e8_b9eb_0050b6701502level2_row69\" class=\"row_heading level2 row69\" >advanced degree</th> \n",
       "        <td id=\"T_3c355352_abc1_11e8_b9eb_0050b6701502row69_col0\" class=\"data row69 col0\" >14.99%</td> \n",
       "    </tr>    <tr> \n",
       "        <th id=\"T_3c355352_abc1_11e8_b9eb_0050b6701502level0_row70\" class=\"row_heading level0 row70\" rowspan=10>2007</th> \n",
       "        <th id=\"T_3c355352_abc1_11e8_b9eb_0050b6701502level1_row70\" class=\"row_heading level1 row70\" rowspan=5>foreign born</th> \n",
       "        <th id=\"T_3c355352_abc1_11e8_b9eb_0050b6701502level2_row70\" class=\"row_heading level2 row70\" >no hs</th> \n",
       "        <td id=\"T_3c355352_abc1_11e8_b9eb_0050b6701502row70_col0\" class=\"data row70 col0\" >38.80%</td> \n",
       "    </tr>    <tr> \n",
       "        <th id=\"T_3c355352_abc1_11e8_b9eb_0050b6701502level2_row71\" class=\"row_heading level2 row71\" >hs grad</th> \n",
       "        <td id=\"T_3c355352_abc1_11e8_b9eb_0050b6701502row71_col0\" class=\"data row71 col0\" >18.98%</td> \n",
       "    </tr>    <tr> \n",
       "        <th id=\"T_3c355352_abc1_11e8_b9eb_0050b6701502level2_row72\" class=\"row_heading level2 row72\" >some college</th> \n",
       "        <td id=\"T_3c355352_abc1_11e8_b9eb_0050b6701502row72_col0\" class=\"data row72 col0\" >17.46%</td> \n",
       "    </tr>    <tr> \n",
       "        <th id=\"T_3c355352_abc1_11e8_b9eb_0050b6701502level2_row73\" class=\"row_heading level2 row73\" >bachelor</th> \n",
       "        <td id=\"T_3c355352_abc1_11e8_b9eb_0050b6701502row73_col0\" class=\"data row73 col0\" >17.79%</td> \n",
       "    </tr>    <tr> \n",
       "        <th id=\"T_3c355352_abc1_11e8_b9eb_0050b6701502level2_row74\" class=\"row_heading level2 row74\" >advanced degree</th> \n",
       "        <td id=\"T_3c355352_abc1_11e8_b9eb_0050b6701502row74_col0\" class=\"data row74 col0\" >6.97%</td> \n",
       "    </tr>    <tr> \n",
       "        <th id=\"T_3c355352_abc1_11e8_b9eb_0050b6701502level1_row75\" class=\"row_heading level1 row75\" rowspan=5>native</th> \n",
       "        <th id=\"T_3c355352_abc1_11e8_b9eb_0050b6701502level2_row75\" class=\"row_heading level2 row75\" >no hs</th> \n",
       "        <td id=\"T_3c355352_abc1_11e8_b9eb_0050b6701502row75_col0\" class=\"data row75 col0\" >10.35%</td> \n",
       "    </tr>    <tr> \n",
       "        <th id=\"T_3c355352_abc1_11e8_b9eb_0050b6701502level2_row76\" class=\"row_heading level2 row76\" >hs grad</th> \n",
       "        <td id=\"T_3c355352_abc1_11e8_b9eb_0050b6701502row76_col0\" class=\"data row76 col0\" >22.61%</td> \n",
       "    </tr>    <tr> \n",
       "        <th id=\"T_3c355352_abc1_11e8_b9eb_0050b6701502level2_row77\" class=\"row_heading level2 row77\" >some college</th> \n",
       "        <td id=\"T_3c355352_abc1_11e8_b9eb_0050b6701502row77_col0\" class=\"data row77 col0\" >34.83%</td> \n",
       "    </tr>    <tr> \n",
       "        <th id=\"T_3c355352_abc1_11e8_b9eb_0050b6701502level2_row78\" class=\"row_heading level2 row78\" >bachelor</th> \n",
       "        <td id=\"T_3c355352_abc1_11e8_b9eb_0050b6701502row78_col0\" class=\"data row78 col0\" >18.34%</td> \n",
       "    </tr>    <tr> \n",
       "        <th id=\"T_3c355352_abc1_11e8_b9eb_0050b6701502level2_row79\" class=\"row_heading level2 row79\" >advanced degree</th> \n",
       "        <td id=\"T_3c355352_abc1_11e8_b9eb_0050b6701502row79_col0\" class=\"data row79 col0\" >13.87%</td> \n",
       "    </tr>    <tr> \n",
       "        <th id=\"T_3c355352_abc1_11e8_b9eb_0050b6701502level0_row80\" class=\"row_heading level0 row80\" rowspan=10>2008</th> \n",
       "        <th id=\"T_3c355352_abc1_11e8_b9eb_0050b6701502level1_row80\" class=\"row_heading level1 row80\" rowspan=5>foreign born</th> \n",
       "        <th id=\"T_3c355352_abc1_11e8_b9eb_0050b6701502level2_row80\" class=\"row_heading level2 row80\" >no hs</th> \n",
       "        <td id=\"T_3c355352_abc1_11e8_b9eb_0050b6701502row80_col0\" class=\"data row80 col0\" >42.15%</td> \n",
       "    </tr>    <tr> \n",
       "        <th id=\"T_3c355352_abc1_11e8_b9eb_0050b6701502level2_row81\" class=\"row_heading level2 row81\" >hs grad</th> \n",
       "        <td id=\"T_3c355352_abc1_11e8_b9eb_0050b6701502row81_col0\" class=\"data row81 col0\" >19.13%</td> \n",
       "    </tr>    <tr> \n",
       "        <th id=\"T_3c355352_abc1_11e8_b9eb_0050b6701502level2_row82\" class=\"row_heading level2 row82\" >some college</th> \n",
       "        <td id=\"T_3c355352_abc1_11e8_b9eb_0050b6701502row82_col0\" class=\"data row82 col0\" >13.94%</td> \n",
       "    </tr>    <tr> \n",
       "        <th id=\"T_3c355352_abc1_11e8_b9eb_0050b6701502level2_row83\" class=\"row_heading level2 row83\" >bachelor</th> \n",
       "        <td id=\"T_3c355352_abc1_11e8_b9eb_0050b6701502row83_col0\" class=\"data row83 col0\" >15.53%</td> \n",
       "    </tr>    <tr> \n",
       "        <th id=\"T_3c355352_abc1_11e8_b9eb_0050b6701502level2_row84\" class=\"row_heading level2 row84\" >advanced degree</th> \n",
       "        <td id=\"T_3c355352_abc1_11e8_b9eb_0050b6701502row84_col0\" class=\"data row84 col0\" >9.24%</td> \n",
       "    </tr>    <tr> \n",
       "        <th id=\"T_3c355352_abc1_11e8_b9eb_0050b6701502level1_row85\" class=\"row_heading level1 row85\" rowspan=5>native</th> \n",
       "        <th id=\"T_3c355352_abc1_11e8_b9eb_0050b6701502level2_row85\" class=\"row_heading level2 row85\" >no hs</th> \n",
       "        <td id=\"T_3c355352_abc1_11e8_b9eb_0050b6701502row85_col0\" class=\"data row85 col0\" >9.06%</td> \n",
       "    </tr>    <tr> \n",
       "        <th id=\"T_3c355352_abc1_11e8_b9eb_0050b6701502level2_row86\" class=\"row_heading level2 row86\" >hs grad</th> \n",
       "        <td id=\"T_3c355352_abc1_11e8_b9eb_0050b6701502row86_col0\" class=\"data row86 col0\" >20.25%</td> \n",
       "    </tr>    <tr> \n",
       "        <th id=\"T_3c355352_abc1_11e8_b9eb_0050b6701502level2_row87\" class=\"row_heading level2 row87\" >some college</th> \n",
       "        <td id=\"T_3c355352_abc1_11e8_b9eb_0050b6701502row87_col0\" class=\"data row87 col0\" >36.13%</td> \n",
       "    </tr>    <tr> \n",
       "        <th id=\"T_3c355352_abc1_11e8_b9eb_0050b6701502level2_row88\" class=\"row_heading level2 row88\" >bachelor</th> \n",
       "        <td id=\"T_3c355352_abc1_11e8_b9eb_0050b6701502row88_col0\" class=\"data row88 col0\" >17.11%</td> \n",
       "    </tr>    <tr> \n",
       "        <th id=\"T_3c355352_abc1_11e8_b9eb_0050b6701502level2_row89\" class=\"row_heading level2 row89\" >advanced degree</th> \n",
       "        <td id=\"T_3c355352_abc1_11e8_b9eb_0050b6701502row89_col0\" class=\"data row89 col0\" >17.44%</td> \n",
       "    </tr>    <tr> \n",
       "        <th id=\"T_3c355352_abc1_11e8_b9eb_0050b6701502level0_row90\" class=\"row_heading level0 row90\" rowspan=10>2009</th> \n",
       "        <th id=\"T_3c355352_abc1_11e8_b9eb_0050b6701502level1_row90\" class=\"row_heading level1 row90\" rowspan=5>foreign born</th> \n",
       "        <th id=\"T_3c355352_abc1_11e8_b9eb_0050b6701502level2_row90\" class=\"row_heading level2 row90\" >no hs</th> \n",
       "        <td id=\"T_3c355352_abc1_11e8_b9eb_0050b6701502row90_col0\" class=\"data row90 col0\" >39.17%</td> \n",
       "    </tr>    <tr> \n",
       "        <th id=\"T_3c355352_abc1_11e8_b9eb_0050b6701502level2_row91\" class=\"row_heading level2 row91\" >hs grad</th> \n",
       "        <td id=\"T_3c355352_abc1_11e8_b9eb_0050b6701502row91_col0\" class=\"data row91 col0\" >17.72%</td> \n",
       "    </tr>    <tr> \n",
       "        <th id=\"T_3c355352_abc1_11e8_b9eb_0050b6701502level2_row92\" class=\"row_heading level2 row92\" >some college</th> \n",
       "        <td id=\"T_3c355352_abc1_11e8_b9eb_0050b6701502row92_col0\" class=\"data row92 col0\" >17.10%</td> \n",
       "    </tr>    <tr> \n",
       "        <th id=\"T_3c355352_abc1_11e8_b9eb_0050b6701502level2_row93\" class=\"row_heading level2 row93\" >bachelor</th> \n",
       "        <td id=\"T_3c355352_abc1_11e8_b9eb_0050b6701502row93_col0\" class=\"data row93 col0\" >18.15%</td> \n",
       "    </tr>    <tr> \n",
       "        <th id=\"T_3c355352_abc1_11e8_b9eb_0050b6701502level2_row94\" class=\"row_heading level2 row94\" >advanced degree</th> \n",
       "        <td id=\"T_3c355352_abc1_11e8_b9eb_0050b6701502row94_col0\" class=\"data row94 col0\" >7.85%</td> \n",
       "    </tr>    <tr> \n",
       "        <th id=\"T_3c355352_abc1_11e8_b9eb_0050b6701502level1_row95\" class=\"row_heading level1 row95\" rowspan=5>native</th> \n",
       "        <th id=\"T_3c355352_abc1_11e8_b9eb_0050b6701502level2_row95\" class=\"row_heading level2 row95\" >no hs</th> \n",
       "        <td id=\"T_3c355352_abc1_11e8_b9eb_0050b6701502row95_col0\" class=\"data row95 col0\" >8.09%</td> \n",
       "    </tr>    <tr> \n",
       "        <th id=\"T_3c355352_abc1_11e8_b9eb_0050b6701502level2_row96\" class=\"row_heading level2 row96\" >hs grad</th> \n",
       "        <td id=\"T_3c355352_abc1_11e8_b9eb_0050b6701502row96_col0\" class=\"data row96 col0\" >20.91%</td> \n",
       "    </tr>    <tr> \n",
       "        <th id=\"T_3c355352_abc1_11e8_b9eb_0050b6701502level2_row97\" class=\"row_heading level2 row97\" >some college</th> \n",
       "        <td id=\"T_3c355352_abc1_11e8_b9eb_0050b6701502row97_col0\" class=\"data row97 col0\" >37.45%</td> \n",
       "    </tr>    <tr> \n",
       "        <th id=\"T_3c355352_abc1_11e8_b9eb_0050b6701502level2_row98\" class=\"row_heading level2 row98\" >bachelor</th> \n",
       "        <td id=\"T_3c355352_abc1_11e8_b9eb_0050b6701502row98_col0\" class=\"data row98 col0\" >16.99%</td> \n",
       "    </tr>    <tr> \n",
       "        <th id=\"T_3c355352_abc1_11e8_b9eb_0050b6701502level2_row99\" class=\"row_heading level2 row99\" >advanced degree</th> \n",
       "        <td id=\"T_3c355352_abc1_11e8_b9eb_0050b6701502row99_col0\" class=\"data row99 col0\" >16.56%</td> \n",
       "    </tr>    <tr> \n",
       "        <th id=\"T_3c355352_abc1_11e8_b9eb_0050b6701502level0_row100\" class=\"row_heading level0 row100\" rowspan=10>2010</th> \n",
       "        <th id=\"T_3c355352_abc1_11e8_b9eb_0050b6701502level1_row100\" class=\"row_heading level1 row100\" rowspan=5>foreign born</th> \n",
       "        <th id=\"T_3c355352_abc1_11e8_b9eb_0050b6701502level2_row100\" class=\"row_heading level2 row100\" >no hs</th> \n",
       "        <td id=\"T_3c355352_abc1_11e8_b9eb_0050b6701502row100_col0\" class=\"data row100 col0\" >42.14%</td> \n",
       "    </tr>    <tr> \n",
       "        <th id=\"T_3c355352_abc1_11e8_b9eb_0050b6701502level2_row101\" class=\"row_heading level2 row101\" >hs grad</th> \n",
       "        <td id=\"T_3c355352_abc1_11e8_b9eb_0050b6701502row101_col0\" class=\"data row101 col0\" >15.64%</td> \n",
       "    </tr>    <tr> \n",
       "        <th id=\"T_3c355352_abc1_11e8_b9eb_0050b6701502level2_row102\" class=\"row_heading level2 row102\" >some college</th> \n",
       "        <td id=\"T_3c355352_abc1_11e8_b9eb_0050b6701502row102_col0\" class=\"data row102 col0\" >16.62%</td> \n",
       "    </tr>    <tr> \n",
       "        <th id=\"T_3c355352_abc1_11e8_b9eb_0050b6701502level2_row103\" class=\"row_heading level2 row103\" >bachelor</th> \n",
       "        <td id=\"T_3c355352_abc1_11e8_b9eb_0050b6701502row103_col0\" class=\"data row103 col0\" >16.07%</td> \n",
       "    </tr>    <tr> \n",
       "        <th id=\"T_3c355352_abc1_11e8_b9eb_0050b6701502level2_row104\" class=\"row_heading level2 row104\" >advanced degree</th> \n",
       "        <td id=\"T_3c355352_abc1_11e8_b9eb_0050b6701502row104_col0\" class=\"data row104 col0\" >9.52%</td> \n",
       "    </tr>    <tr> \n",
       "        <th id=\"T_3c355352_abc1_11e8_b9eb_0050b6701502level1_row105\" class=\"row_heading level1 row105\" rowspan=5>native</th> \n",
       "        <th id=\"T_3c355352_abc1_11e8_b9eb_0050b6701502level2_row105\" class=\"row_heading level2 row105\" >no hs</th> \n",
       "        <td id=\"T_3c355352_abc1_11e8_b9eb_0050b6701502row105_col0\" class=\"data row105 col0\" >8.90%</td> \n",
       "    </tr>    <tr> \n",
       "        <th id=\"T_3c355352_abc1_11e8_b9eb_0050b6701502level2_row106\" class=\"row_heading level2 row106\" >hs grad</th> \n",
       "        <td id=\"T_3c355352_abc1_11e8_b9eb_0050b6701502row106_col0\" class=\"data row106 col0\" >19.45%</td> \n",
       "    </tr>    <tr> \n",
       "        <th id=\"T_3c355352_abc1_11e8_b9eb_0050b6701502level2_row107\" class=\"row_heading level2 row107\" >some college</th> \n",
       "        <td id=\"T_3c355352_abc1_11e8_b9eb_0050b6701502row107_col0\" class=\"data row107 col0\" >38.03%</td> \n",
       "    </tr>    <tr> \n",
       "        <th id=\"T_3c355352_abc1_11e8_b9eb_0050b6701502level2_row108\" class=\"row_heading level2 row108\" >bachelor</th> \n",
       "        <td id=\"T_3c355352_abc1_11e8_b9eb_0050b6701502row108_col0\" class=\"data row108 col0\" >17.28%</td> \n",
       "    </tr>    <tr> \n",
       "        <th id=\"T_3c355352_abc1_11e8_b9eb_0050b6701502level2_row109\" class=\"row_heading level2 row109\" >advanced degree</th> \n",
       "        <td id=\"T_3c355352_abc1_11e8_b9eb_0050b6701502row109_col0\" class=\"data row109 col0\" >16.34%</td> \n",
       "    </tr>    <tr> \n",
       "        <th id=\"T_3c355352_abc1_11e8_b9eb_0050b6701502level0_row110\" class=\"row_heading level0 row110\" rowspan=10>2011</th> \n",
       "        <th id=\"T_3c355352_abc1_11e8_b9eb_0050b6701502level1_row110\" class=\"row_heading level1 row110\" rowspan=5>foreign born</th> \n",
       "        <th id=\"T_3c355352_abc1_11e8_b9eb_0050b6701502level2_row110\" class=\"row_heading level2 row110\" >no hs</th> \n",
       "        <td id=\"T_3c355352_abc1_11e8_b9eb_0050b6701502row110_col0\" class=\"data row110 col0\" >42.11%</td> \n",
       "    </tr>    <tr> \n",
       "        <th id=\"T_3c355352_abc1_11e8_b9eb_0050b6701502level2_row111\" class=\"row_heading level2 row111\" >hs grad</th> \n",
       "        <td id=\"T_3c355352_abc1_11e8_b9eb_0050b6701502row111_col0\" class=\"data row111 col0\" >14.88%</td> \n",
       "    </tr>    <tr> \n",
       "        <th id=\"T_3c355352_abc1_11e8_b9eb_0050b6701502level2_row112\" class=\"row_heading level2 row112\" >some college</th> \n",
       "        <td id=\"T_3c355352_abc1_11e8_b9eb_0050b6701502row112_col0\" class=\"data row112 col0\" >17.79%</td> \n",
       "    </tr>    <tr> \n",
       "        <th id=\"T_3c355352_abc1_11e8_b9eb_0050b6701502level2_row113\" class=\"row_heading level2 row113\" >bachelor</th> \n",
       "        <td id=\"T_3c355352_abc1_11e8_b9eb_0050b6701502row113_col0\" class=\"data row113 col0\" >16.09%</td> \n",
       "    </tr>    <tr> \n",
       "        <th id=\"T_3c355352_abc1_11e8_b9eb_0050b6701502level2_row114\" class=\"row_heading level2 row114\" >advanced degree</th> \n",
       "        <td id=\"T_3c355352_abc1_11e8_b9eb_0050b6701502row114_col0\" class=\"data row114 col0\" >9.13%</td> \n",
       "    </tr>    <tr> \n",
       "        <th id=\"T_3c355352_abc1_11e8_b9eb_0050b6701502level1_row115\" class=\"row_heading level1 row115\" rowspan=5>native</th> \n",
       "        <th id=\"T_3c355352_abc1_11e8_b9eb_0050b6701502level2_row115\" class=\"row_heading level2 row115\" >no hs</th> \n",
       "        <td id=\"T_3c355352_abc1_11e8_b9eb_0050b6701502row115_col0\" class=\"data row115 col0\" >6.04%</td> \n",
       "    </tr>    <tr> \n",
       "        <th id=\"T_3c355352_abc1_11e8_b9eb_0050b6701502level2_row116\" class=\"row_heading level2 row116\" >hs grad</th> \n",
       "        <td id=\"T_3c355352_abc1_11e8_b9eb_0050b6701502row116_col0\" class=\"data row116 col0\" >19.77%</td> \n",
       "    </tr>    <tr> \n",
       "        <th id=\"T_3c355352_abc1_11e8_b9eb_0050b6701502level2_row117\" class=\"row_heading level2 row117\" >some college</th> \n",
       "        <td id=\"T_3c355352_abc1_11e8_b9eb_0050b6701502row117_col0\" class=\"data row117 col0\" >37.67%</td> \n",
       "    </tr>    <tr> \n",
       "        <th id=\"T_3c355352_abc1_11e8_b9eb_0050b6701502level2_row118\" class=\"row_heading level2 row118\" >bachelor</th> \n",
       "        <td id=\"T_3c355352_abc1_11e8_b9eb_0050b6701502row118_col0\" class=\"data row118 col0\" >19.22%</td> \n",
       "    </tr>    <tr> \n",
       "        <th id=\"T_3c355352_abc1_11e8_b9eb_0050b6701502level2_row119\" class=\"row_heading level2 row119\" >advanced degree</th> \n",
       "        <td id=\"T_3c355352_abc1_11e8_b9eb_0050b6701502row119_col0\" class=\"data row119 col0\" >17.31%</td> \n",
       "    </tr>    <tr> \n",
       "        <th id=\"T_3c355352_abc1_11e8_b9eb_0050b6701502level0_row120\" class=\"row_heading level0 row120\" rowspan=10>2012</th> \n",
       "        <th id=\"T_3c355352_abc1_11e8_b9eb_0050b6701502level1_row120\" class=\"row_heading level1 row120\" rowspan=5>foreign born</th> \n",
       "        <th id=\"T_3c355352_abc1_11e8_b9eb_0050b6701502level2_row120\" class=\"row_heading level2 row120\" >no hs</th> \n",
       "        <td id=\"T_3c355352_abc1_11e8_b9eb_0050b6701502row120_col0\" class=\"data row120 col0\" >37.66%</td> \n",
       "    </tr>    <tr> \n",
       "        <th id=\"T_3c355352_abc1_11e8_b9eb_0050b6701502level2_row121\" class=\"row_heading level2 row121\" >hs grad</th> \n",
       "        <td id=\"T_3c355352_abc1_11e8_b9eb_0050b6701502row121_col0\" class=\"data row121 col0\" >15.16%</td> \n",
       "    </tr>    <tr> \n",
       "        <th id=\"T_3c355352_abc1_11e8_b9eb_0050b6701502level2_row122\" class=\"row_heading level2 row122\" >some college</th> \n",
       "        <td id=\"T_3c355352_abc1_11e8_b9eb_0050b6701502row122_col0\" class=\"data row122 col0\" >20.07%</td> \n",
       "    </tr>    <tr> \n",
       "        <th id=\"T_3c355352_abc1_11e8_b9eb_0050b6701502level2_row123\" class=\"row_heading level2 row123\" >bachelor</th> \n",
       "        <td id=\"T_3c355352_abc1_11e8_b9eb_0050b6701502row123_col0\" class=\"data row123 col0\" >17.03%</td> \n",
       "    </tr>    <tr> \n",
       "        <th id=\"T_3c355352_abc1_11e8_b9eb_0050b6701502level2_row124\" class=\"row_heading level2 row124\" >advanced degree</th> \n",
       "        <td id=\"T_3c355352_abc1_11e8_b9eb_0050b6701502row124_col0\" class=\"data row124 col0\" >10.08%</td> \n",
       "    </tr>    <tr> \n",
       "        <th id=\"T_3c355352_abc1_11e8_b9eb_0050b6701502level1_row125\" class=\"row_heading level1 row125\" rowspan=5>native</th> \n",
       "        <th id=\"T_3c355352_abc1_11e8_b9eb_0050b6701502level2_row125\" class=\"row_heading level2 row125\" >no hs</th> \n",
       "        <td id=\"T_3c355352_abc1_11e8_b9eb_0050b6701502row125_col0\" class=\"data row125 col0\" >6.77%</td> \n",
       "    </tr>    <tr> \n",
       "        <th id=\"T_3c355352_abc1_11e8_b9eb_0050b6701502level2_row126\" class=\"row_heading level2 row126\" >hs grad</th> \n",
       "        <td id=\"T_3c355352_abc1_11e8_b9eb_0050b6701502row126_col0\" class=\"data row126 col0\" >19.59%</td> \n",
       "    </tr>    <tr> \n",
       "        <th id=\"T_3c355352_abc1_11e8_b9eb_0050b6701502level2_row127\" class=\"row_heading level2 row127\" >some college</th> \n",
       "        <td id=\"T_3c355352_abc1_11e8_b9eb_0050b6701502row127_col0\" class=\"data row127 col0\" >36.08%</td> \n",
       "    </tr>    <tr> \n",
       "        <th id=\"T_3c355352_abc1_11e8_b9eb_0050b6701502level2_row128\" class=\"row_heading level2 row128\" >bachelor</th> \n",
       "        <td id=\"T_3c355352_abc1_11e8_b9eb_0050b6701502row128_col0\" class=\"data row128 col0\" >20.87%</td> \n",
       "    </tr>    <tr> \n",
       "        <th id=\"T_3c355352_abc1_11e8_b9eb_0050b6701502level2_row129\" class=\"row_heading level2 row129\" >advanced degree</th> \n",
       "        <td id=\"T_3c355352_abc1_11e8_b9eb_0050b6701502row129_col0\" class=\"data row129 col0\" >16.68%</td> \n",
       "    </tr>    <tr> \n",
       "        <th id=\"T_3c355352_abc1_11e8_b9eb_0050b6701502level0_row130\" class=\"row_heading level0 row130\" rowspan=10>2013</th> \n",
       "        <th id=\"T_3c355352_abc1_11e8_b9eb_0050b6701502level1_row130\" class=\"row_heading level1 row130\" rowspan=5>foreign born</th> \n",
       "        <th id=\"T_3c355352_abc1_11e8_b9eb_0050b6701502level2_row130\" class=\"row_heading level2 row130\" >no hs</th> \n",
       "        <td id=\"T_3c355352_abc1_11e8_b9eb_0050b6701502row130_col0\" class=\"data row130 col0\" >37.12%</td> \n",
       "    </tr>    <tr> \n",
       "        <th id=\"T_3c355352_abc1_11e8_b9eb_0050b6701502level2_row131\" class=\"row_heading level2 row131\" >hs grad</th> \n",
       "        <td id=\"T_3c355352_abc1_11e8_b9eb_0050b6701502row131_col0\" class=\"data row131 col0\" >17.10%</td> \n",
       "    </tr>    <tr> \n",
       "        <th id=\"T_3c355352_abc1_11e8_b9eb_0050b6701502level2_row132\" class=\"row_heading level2 row132\" >some college</th> \n",
       "        <td id=\"T_3c355352_abc1_11e8_b9eb_0050b6701502row132_col0\" class=\"data row132 col0\" >19.34%</td> \n",
       "    </tr>    <tr> \n",
       "        <th id=\"T_3c355352_abc1_11e8_b9eb_0050b6701502level2_row133\" class=\"row_heading level2 row133\" >bachelor</th> \n",
       "        <td id=\"T_3c355352_abc1_11e8_b9eb_0050b6701502row133_col0\" class=\"data row133 col0\" >17.37%</td> \n",
       "    </tr>    <tr> \n",
       "        <th id=\"T_3c355352_abc1_11e8_b9eb_0050b6701502level2_row134\" class=\"row_heading level2 row134\" >advanced degree</th> \n",
       "        <td id=\"T_3c355352_abc1_11e8_b9eb_0050b6701502row134_col0\" class=\"data row134 col0\" >9.06%</td> \n",
       "    </tr>    <tr> \n",
       "        <th id=\"T_3c355352_abc1_11e8_b9eb_0050b6701502level1_row135\" class=\"row_heading level1 row135\" rowspan=5>native</th> \n",
       "        <th id=\"T_3c355352_abc1_11e8_b9eb_0050b6701502level2_row135\" class=\"row_heading level2 row135\" >no hs</th> \n",
       "        <td id=\"T_3c355352_abc1_11e8_b9eb_0050b6701502row135_col0\" class=\"data row135 col0\" >5.46%</td> \n",
       "    </tr>    <tr> \n",
       "        <th id=\"T_3c355352_abc1_11e8_b9eb_0050b6701502level2_row136\" class=\"row_heading level2 row136\" >hs grad</th> \n",
       "        <td id=\"T_3c355352_abc1_11e8_b9eb_0050b6701502row136_col0\" class=\"data row136 col0\" >18.62%</td> \n",
       "    </tr>    <tr> \n",
       "        <th id=\"T_3c355352_abc1_11e8_b9eb_0050b6701502level2_row137\" class=\"row_heading level2 row137\" >some college</th> \n",
       "        <td id=\"T_3c355352_abc1_11e8_b9eb_0050b6701502row137_col0\" class=\"data row137 col0\" >38.49%</td> \n",
       "    </tr>    <tr> \n",
       "        <th id=\"T_3c355352_abc1_11e8_b9eb_0050b6701502level2_row138\" class=\"row_heading level2 row138\" >bachelor</th> \n",
       "        <td id=\"T_3c355352_abc1_11e8_b9eb_0050b6701502row138_col0\" class=\"data row138 col0\" >21.09%</td> \n",
       "    </tr>    <tr> \n",
       "        <th id=\"T_3c355352_abc1_11e8_b9eb_0050b6701502level2_row139\" class=\"row_heading level2 row139\" >advanced degree</th> \n",
       "        <td id=\"T_3c355352_abc1_11e8_b9eb_0050b6701502row139_col0\" class=\"data row139 col0\" >16.35%</td> \n",
       "    </tr>    <tr> \n",
       "        <th id=\"T_3c355352_abc1_11e8_b9eb_0050b6701502level0_row140\" class=\"row_heading level0 row140\" rowspan=10>2014</th> \n",
       "        <th id=\"T_3c355352_abc1_11e8_b9eb_0050b6701502level1_row140\" class=\"row_heading level1 row140\" rowspan=5>foreign born</th> \n",
       "        <th id=\"T_3c355352_abc1_11e8_b9eb_0050b6701502level2_row140\" class=\"row_heading level2 row140\" >no hs</th> \n",
       "        <td id=\"T_3c355352_abc1_11e8_b9eb_0050b6701502row140_col0\" class=\"data row140 col0\" >38.49%</td> \n",
       "    </tr>    <tr> \n",
       "        <th id=\"T_3c355352_abc1_11e8_b9eb_0050b6701502level2_row141\" class=\"row_heading level2 row141\" >hs grad</th> \n",
       "        <td id=\"T_3c355352_abc1_11e8_b9eb_0050b6701502row141_col0\" class=\"data row141 col0\" >20.36%</td> \n",
       "    </tr>    <tr> \n",
       "        <th id=\"T_3c355352_abc1_11e8_b9eb_0050b6701502level2_row142\" class=\"row_heading level2 row142\" >some college</th> \n",
       "        <td id=\"T_3c355352_abc1_11e8_b9eb_0050b6701502row142_col0\" class=\"data row142 col0\" >17.77%</td> \n",
       "    </tr>    <tr> \n",
       "        <th id=\"T_3c355352_abc1_11e8_b9eb_0050b6701502level2_row143\" class=\"row_heading level2 row143\" >bachelor</th> \n",
       "        <td id=\"T_3c355352_abc1_11e8_b9eb_0050b6701502row143_col0\" class=\"data row143 col0\" >15.45%</td> \n",
       "    </tr>    <tr> \n",
       "        <th id=\"T_3c355352_abc1_11e8_b9eb_0050b6701502level2_row144\" class=\"row_heading level2 row144\" >advanced degree</th> \n",
       "        <td id=\"T_3c355352_abc1_11e8_b9eb_0050b6701502row144_col0\" class=\"data row144 col0\" >7.92%</td> \n",
       "    </tr>    <tr> \n",
       "        <th id=\"T_3c355352_abc1_11e8_b9eb_0050b6701502level1_row145\" class=\"row_heading level1 row145\" rowspan=5>native</th> \n",
       "        <th id=\"T_3c355352_abc1_11e8_b9eb_0050b6701502level2_row145\" class=\"row_heading level2 row145\" >no hs</th> \n",
       "        <td id=\"T_3c355352_abc1_11e8_b9eb_0050b6701502row145_col0\" class=\"data row145 col0\" >6.41%</td> \n",
       "    </tr>    <tr> \n",
       "        <th id=\"T_3c355352_abc1_11e8_b9eb_0050b6701502level2_row146\" class=\"row_heading level2 row146\" >hs grad</th> \n",
       "        <td id=\"T_3c355352_abc1_11e8_b9eb_0050b6701502row146_col0\" class=\"data row146 col0\" >20.96%</td> \n",
       "    </tr>    <tr> \n",
       "        <th id=\"T_3c355352_abc1_11e8_b9eb_0050b6701502level2_row147\" class=\"row_heading level2 row147\" >some college</th> \n",
       "        <td id=\"T_3c355352_abc1_11e8_b9eb_0050b6701502row147_col0\" class=\"data row147 col0\" >35.66%</td> \n",
       "    </tr>    <tr> \n",
       "        <th id=\"T_3c355352_abc1_11e8_b9eb_0050b6701502level2_row148\" class=\"row_heading level2 row148\" >bachelor</th> \n",
       "        <td id=\"T_3c355352_abc1_11e8_b9eb_0050b6701502row148_col0\" class=\"data row148 col0\" >19.79%</td> \n",
       "    </tr>    <tr> \n",
       "        <th id=\"T_3c355352_abc1_11e8_b9eb_0050b6701502level2_row149\" class=\"row_heading level2 row149\" >advanced degree</th> \n",
       "        <td id=\"T_3c355352_abc1_11e8_b9eb_0050b6701502row149_col0\" class=\"data row149 col0\" >17.18%</td> \n",
       "    </tr>    <tr> \n",
       "        <th id=\"T_3c355352_abc1_11e8_b9eb_0050b6701502level0_row150\" class=\"row_heading level0 row150\" rowspan=10>2015</th> \n",
       "        <th id=\"T_3c355352_abc1_11e8_b9eb_0050b6701502level1_row150\" class=\"row_heading level1 row150\" rowspan=5>foreign born</th> \n",
       "        <th id=\"T_3c355352_abc1_11e8_b9eb_0050b6701502level2_row150\" class=\"row_heading level2 row150\" >no hs</th> \n",
       "        <td id=\"T_3c355352_abc1_11e8_b9eb_0050b6701502row150_col0\" class=\"data row150 col0\" >38.41%</td> \n",
       "    </tr>    <tr> \n",
       "        <th id=\"T_3c355352_abc1_11e8_b9eb_0050b6701502level2_row151\" class=\"row_heading level2 row151\" >hs grad</th> \n",
       "        <td id=\"T_3c355352_abc1_11e8_b9eb_0050b6701502row151_col0\" class=\"data row151 col0\" >15.76%</td> \n",
       "    </tr>    <tr> \n",
       "        <th id=\"T_3c355352_abc1_11e8_b9eb_0050b6701502level2_row152\" class=\"row_heading level2 row152\" >some college</th> \n",
       "        <td id=\"T_3c355352_abc1_11e8_b9eb_0050b6701502row152_col0\" class=\"data row152 col0\" >17.98%</td> \n",
       "    </tr>    <tr> \n",
       "        <th id=\"T_3c355352_abc1_11e8_b9eb_0050b6701502level2_row153\" class=\"row_heading level2 row153\" >bachelor</th> \n",
       "        <td id=\"T_3c355352_abc1_11e8_b9eb_0050b6701502row153_col0\" class=\"data row153 col0\" >18.37%</td> \n",
       "    </tr>    <tr> \n",
       "        <th id=\"T_3c355352_abc1_11e8_b9eb_0050b6701502level2_row154\" class=\"row_heading level2 row154\" >advanced degree</th> \n",
       "        <td id=\"T_3c355352_abc1_11e8_b9eb_0050b6701502row154_col0\" class=\"data row154 col0\" >9.48%</td> \n",
       "    </tr>    <tr> \n",
       "        <th id=\"T_3c355352_abc1_11e8_b9eb_0050b6701502level1_row155\" class=\"row_heading level1 row155\" rowspan=5>native</th> \n",
       "        <th id=\"T_3c355352_abc1_11e8_b9eb_0050b6701502level2_row155\" class=\"row_heading level2 row155\" >no hs</th> \n",
       "        <td id=\"T_3c355352_abc1_11e8_b9eb_0050b6701502row155_col0\" class=\"data row155 col0\" >6.46%</td> \n",
       "    </tr>    <tr> \n",
       "        <th id=\"T_3c355352_abc1_11e8_b9eb_0050b6701502level2_row156\" class=\"row_heading level2 row156\" >hs grad</th> \n",
       "        <td id=\"T_3c355352_abc1_11e8_b9eb_0050b6701502row156_col0\" class=\"data row156 col0\" >18.54%</td> \n",
       "    </tr>    <tr> \n",
       "        <th id=\"T_3c355352_abc1_11e8_b9eb_0050b6701502level2_row157\" class=\"row_heading level2 row157\" >some college</th> \n",
       "        <td id=\"T_3c355352_abc1_11e8_b9eb_0050b6701502row157_col0\" class=\"data row157 col0\" >38.27%</td> \n",
       "    </tr>    <tr> \n",
       "        <th id=\"T_3c355352_abc1_11e8_b9eb_0050b6701502level2_row158\" class=\"row_heading level2 row158\" >bachelor</th> \n",
       "        <td id=\"T_3c355352_abc1_11e8_b9eb_0050b6701502row158_col0\" class=\"data row158 col0\" >20.32%</td> \n",
       "    </tr>    <tr> \n",
       "        <th id=\"T_3c355352_abc1_11e8_b9eb_0050b6701502level2_row159\" class=\"row_heading level2 row159\" >advanced degree</th> \n",
       "        <td id=\"T_3c355352_abc1_11e8_b9eb_0050b6701502row159_col0\" class=\"data row159 col0\" >16.42%</td> \n",
       "    </tr>    <tr> \n",
       "        <th id=\"T_3c355352_abc1_11e8_b9eb_0050b6701502level0_row160\" class=\"row_heading level0 row160\" rowspan=10>2016</th> \n",
       "        <th id=\"T_3c355352_abc1_11e8_b9eb_0050b6701502level1_row160\" class=\"row_heading level1 row160\" rowspan=5>foreign born</th> \n",
       "        <th id=\"T_3c355352_abc1_11e8_b9eb_0050b6701502level2_row160\" class=\"row_heading level2 row160\" >no hs</th> \n",
       "        <td id=\"T_3c355352_abc1_11e8_b9eb_0050b6701502row160_col0\" class=\"data row160 col0\" >42.96%</td> \n",
       "    </tr>    <tr> \n",
       "        <th id=\"T_3c355352_abc1_11e8_b9eb_0050b6701502level2_row161\" class=\"row_heading level2 row161\" >hs grad</th> \n",
       "        <td id=\"T_3c355352_abc1_11e8_b9eb_0050b6701502row161_col0\" class=\"data row161 col0\" >16.44%</td> \n",
       "    </tr>    <tr> \n",
       "        <th id=\"T_3c355352_abc1_11e8_b9eb_0050b6701502level2_row162\" class=\"row_heading level2 row162\" >some college</th> \n",
       "        <td id=\"T_3c355352_abc1_11e8_b9eb_0050b6701502row162_col0\" class=\"data row162 col0\" >15.61%</td> \n",
       "    </tr>    <tr> \n",
       "        <th id=\"T_3c355352_abc1_11e8_b9eb_0050b6701502level2_row163\" class=\"row_heading level2 row163\" >bachelor</th> \n",
       "        <td id=\"T_3c355352_abc1_11e8_b9eb_0050b6701502row163_col0\" class=\"data row163 col0\" >18.17%</td> \n",
       "    </tr>    <tr> \n",
       "        <th id=\"T_3c355352_abc1_11e8_b9eb_0050b6701502level2_row164\" class=\"row_heading level2 row164\" >advanced degree</th> \n",
       "        <td id=\"T_3c355352_abc1_11e8_b9eb_0050b6701502row164_col0\" class=\"data row164 col0\" >6.83%</td> \n",
       "    </tr>    <tr> \n",
       "        <th id=\"T_3c355352_abc1_11e8_b9eb_0050b6701502level1_row165\" class=\"row_heading level1 row165\" rowspan=5>native</th> \n",
       "        <th id=\"T_3c355352_abc1_11e8_b9eb_0050b6701502level2_row165\" class=\"row_heading level2 row165\" >no hs</th> \n",
       "        <td id=\"T_3c355352_abc1_11e8_b9eb_0050b6701502row165_col0\" class=\"data row165 col0\" >6.34%</td> \n",
       "    </tr>    <tr> \n",
       "        <th id=\"T_3c355352_abc1_11e8_b9eb_0050b6701502level2_row166\" class=\"row_heading level2 row166\" >hs grad</th> \n",
       "        <td id=\"T_3c355352_abc1_11e8_b9eb_0050b6701502row166_col0\" class=\"data row166 col0\" >17.54%</td> \n",
       "    </tr>    <tr> \n",
       "        <th id=\"T_3c355352_abc1_11e8_b9eb_0050b6701502level2_row167\" class=\"row_heading level2 row167\" >some college</th> \n",
       "        <td id=\"T_3c355352_abc1_11e8_b9eb_0050b6701502row167_col0\" class=\"data row167 col0\" >39.04%</td> \n",
       "    </tr>    <tr> \n",
       "        <th id=\"T_3c355352_abc1_11e8_b9eb_0050b6701502level2_row168\" class=\"row_heading level2 row168\" >bachelor</th> \n",
       "        <td id=\"T_3c355352_abc1_11e8_b9eb_0050b6701502row168_col0\" class=\"data row168 col0\" >21.74%</td> \n",
       "    </tr>    <tr> \n",
       "        <th id=\"T_3c355352_abc1_11e8_b9eb_0050b6701502level2_row169\" class=\"row_heading level2 row169\" >advanced degree</th> \n",
       "        <td id=\"T_3c355352_abc1_11e8_b9eb_0050b6701502row169_col0\" class=\"data row169 col0\" >15.34%</td> \n",
       "    </tr></tbody> \n",
       "</table> "
      ],
      "text/plain": [
       "<pandas.io.formats.style.Styler at 0xa9dff98>"
      ]
     },
     "execution_count": 79,
     "metadata": {},
     "output_type": "execute_result"
    }
   ],
   "source": [
    "education_pct.style.format('{:.2%}')"
   ]
  },
  {
   "cell_type": "code",
   "execution_count": 80,
   "metadata": {},
   "outputs": [],
   "source": [
    "import altair as alt"
   ]
  },
  {
   "cell_type": "code",
   "execution_count": 98,
   "metadata": {},
   "outputs": [
    {
     "data": {
      "application/vnd.vegalite.v2+json": {
       "$schema": "https://vega.github.io/schema/vega-lite/v2.6.0.json",
       "config": {
        "view": {
         "height": 300,
         "width": 400
        }
       },
       "data": {
        "name": "data-db09aa4ae66d795cf8be9200400f57e6"
       },
       "datasets": {
        "data-db09aa4ae66d795cf8be9200400f57e6": [
         {
          "ed_att": "no hs",
          "nativity": "foreign born",
          "pctg": 0.5563697551973077,
          "year": "2000"
         },
         {
          "ed_att": "hs grad",
          "nativity": "foreign born",
          "pctg": 0.10128643543396841,
          "year": "2000"
         },
         {
          "ed_att": "some college",
          "nativity": "foreign born",
          "pctg": 0.241695163654128,
          "year": "2000"
         },
         {
          "ed_att": "bachelor",
          "nativity": "foreign born",
          "pctg": 0.05803886446289964,
          "year": "2000"
         },
         {
          "ed_att": "advanced degree",
          "nativity": "foreign born",
          "pctg": 0.042609781251696247,
          "year": "2000"
         },
         {
          "ed_att": "no hs",
          "nativity": "native",
          "pctg": 0.14091713964464372,
          "year": "2000"
         },
         {
          "ed_att": "hs grad",
          "nativity": "native",
          "pctg": 0.2766231055632983,
          "year": "2000"
         },
         {
          "ed_att": "some college",
          "nativity": "native",
          "pctg": 0.2907552162233129,
          "year": "2000"
         },
         {
          "ed_att": "bachelor",
          "nativity": "native",
          "pctg": 0.21931366014260034,
          "year": "2000"
         },
         {
          "ed_att": "advanced degree",
          "nativity": "native",
          "pctg": 0.07239087842614474,
          "year": "2000"
         },
         {
          "ed_att": "no hs",
          "nativity": "foreign born",
          "pctg": 0.4404141229594641,
          "year": "2001"
         },
         {
          "ed_att": "hs grad",
          "nativity": "foreign born",
          "pctg": 0.16135644579118577,
          "year": "2001"
         },
         {
          "ed_att": "some college",
          "nativity": "foreign born",
          "pctg": 0.21778589783580649,
          "year": "2001"
         },
         {
          "ed_att": "bachelor",
          "nativity": "foreign born",
          "pctg": 0.12803945159900776,
          "year": "2001"
         },
         {
          "ed_att": "advanced degree",
          "nativity": "foreign born",
          "pctg": 0.052404081814535895,
          "year": "2001"
         },
         {
          "ed_att": "no hs",
          "nativity": "native",
          "pctg": 0.16699018081241157,
          "year": "2001"
         },
         {
          "ed_att": "hs grad",
          "nativity": "native",
          "pctg": 0.21881643594064404,
          "year": "2001"
         },
         {
          "ed_att": "some college",
          "nativity": "native",
          "pctg": 0.3343003206700653,
          "year": "2001"
         },
         {
          "ed_att": "bachelor",
          "nativity": "native",
          "pctg": 0.150878465334215,
          "year": "2001"
         },
         {
          "ed_att": "advanced degree",
          "nativity": "native",
          "pctg": 0.12901459724266404,
          "year": "2001"
         },
         {
          "ed_att": "no hs",
          "nativity": "foreign born",
          "pctg": 0.42393069156223046,
          "year": "2002"
         },
         {
          "ed_att": "hs grad",
          "nativity": "foreign born",
          "pctg": 0.22923537470191283,
          "year": "2002"
         },
         {
          "ed_att": "some college",
          "nativity": "foreign born",
          "pctg": 0.1510477446851692,
          "year": "2002"
         },
         {
          "ed_att": "bachelor",
          "nativity": "foreign born",
          "pctg": 0.12420721497792886,
          "year": "2002"
         },
         {
          "ed_att": "advanced degree",
          "nativity": "foreign born",
          "pctg": 0.07157897407275864,
          "year": "2002"
         },
         {
          "ed_att": "no hs",
          "nativity": "native",
          "pctg": 0.16678922920420144,
          "year": "2002"
         },
         {
          "ed_att": "hs grad",
          "nativity": "native",
          "pctg": 0.21480310328345037,
          "year": "2002"
         },
         {
          "ed_att": "some college",
          "nativity": "native",
          "pctg": 0.33036119179811496,
          "year": "2002"
         },
         {
          "ed_att": "bachelor",
          "nativity": "native",
          "pctg": 0.14938534887426308,
          "year": "2002"
         },
         {
          "ed_att": "advanced degree",
          "nativity": "native",
          "pctg": 0.1386611268399701,
          "year": "2002"
         },
         {
          "ed_att": "no hs",
          "nativity": "foreign born",
          "pctg": 0.4165446459117345,
          "year": "2003"
         },
         {
          "ed_att": "hs grad",
          "nativity": "foreign born",
          "pctg": 0.17822784810126582,
          "year": "2003"
         },
         {
          "ed_att": "some college",
          "nativity": "foreign born",
          "pctg": 0.16421484775915154,
          "year": "2003"
         },
         {
          "ed_att": "bachelor",
          "nativity": "foreign born",
          "pctg": 0.15111871365035923,
          "year": "2003"
         },
         {
          "ed_att": "advanced degree",
          "nativity": "foreign born",
          "pctg": 0.08989394457748888,
          "year": "2003"
         },
         {
          "ed_att": "no hs",
          "nativity": "native",
          "pctg": 0.13468761572237212,
          "year": "2003"
         },
         {
          "ed_att": "hs grad",
          "nativity": "native",
          "pctg": 0.27228482251494474,
          "year": "2003"
         },
         {
          "ed_att": "some college",
          "nativity": "native",
          "pctg": 0.3121329947627361,
          "year": "2003"
         },
         {
          "ed_att": "bachelor",
          "nativity": "native",
          "pctg": 0.1564963233349204,
          "year": "2003"
         },
         {
          "ed_att": "advanced degree",
          "nativity": "native",
          "pctg": 0.12439824366502672,
          "year": "2003"
         },
         {
          "ed_att": "no hs",
          "nativity": "foreign born",
          "pctg": 0.4215142774423916,
          "year": "2004"
         },
         {
          "ed_att": "hs grad",
          "nativity": "foreign born",
          "pctg": 0.18908630802389045,
          "year": "2004"
         },
         {
          "ed_att": "some college",
          "nativity": "foreign born",
          "pctg": 0.1521247279082984,
          "year": "2004"
         },
         {
          "ed_att": "bachelor",
          "nativity": "foreign born",
          "pctg": 0.171575933690046,
          "year": "2004"
         },
         {
          "ed_att": "advanced degree",
          "nativity": "foreign born",
          "pctg": 0.06569875293537353,
          "year": "2004"
         },
         {
          "ed_att": "no hs",
          "nativity": "native",
          "pctg": 0.1345253413998235,
          "year": "2004"
         },
         {
          "ed_att": "hs grad",
          "nativity": "native",
          "pctg": 0.2339708824857006,
          "year": "2004"
         },
         {
          "ed_att": "some college",
          "nativity": "native",
          "pctg": 0.3386511085809759,
          "year": "2004"
         },
         {
          "ed_att": "bachelor",
          "nativity": "native",
          "pctg": 0.15408972398321127,
          "year": "2004"
         },
         {
          "ed_att": "advanced degree",
          "nativity": "native",
          "pctg": 0.13876294355028868,
          "year": "2004"
         },
         {
          "ed_att": "no hs",
          "nativity": "foreign born",
          "pctg": 0.4173007268395848,
          "year": "2005"
         },
         {
          "ed_att": "hs grad",
          "nativity": "foreign born",
          "pctg": 0.21212047548435714,
          "year": "2005"
         },
         {
          "ed_att": "some college",
          "nativity": "foreign born",
          "pctg": 0.1558937209811119,
          "year": "2005"
         },
         {
          "ed_att": "bachelor",
          "nativity": "foreign born",
          "pctg": 0.1154435180008265,
          "year": "2005"
         },
         {
          "ed_att": "advanced degree",
          "nativity": "foreign born",
          "pctg": 0.09924155869411964,
          "year": "2005"
         },
         {
          "ed_att": "no hs",
          "nativity": "native",
          "pctg": 0.12184445248987921,
          "year": "2005"
         },
         {
          "ed_att": "hs grad",
          "nativity": "native",
          "pctg": 0.2227627291577527,
          "year": "2005"
         },
         {
          "ed_att": "some college",
          "nativity": "native",
          "pctg": 0.3310798801961623,
          "year": "2005"
         },
         {
          "ed_att": "bachelor",
          "nativity": "native",
          "pctg": 0.1758483362406609,
          "year": "2005"
         },
         {
          "ed_att": "advanced degree",
          "nativity": "native",
          "pctg": 0.14846460191554486,
          "year": "2005"
         },
         {
          "ed_att": "no hs",
          "nativity": "foreign born",
          "pctg": 0.3979842769731237,
          "year": "2006"
         },
         {
          "ed_att": "hs grad",
          "nativity": "foreign born",
          "pctg": 0.20875609945008133,
          "year": "2006"
         },
         {
          "ed_att": "some college",
          "nativity": "foreign born",
          "pctg": 0.14964952366199366,
          "year": "2006"
         },
         {
          "ed_att": "bachelor",
          "nativity": "foreign born",
          "pctg": 0.14808109364108124,
          "year": "2006"
         },
         {
          "ed_att": "advanced degree",
          "nativity": "foreign born",
          "pctg": 0.09552900627372009,
          "year": "2006"
         },
         {
          "ed_att": "no hs",
          "nativity": "native",
          "pctg": 0.11794435579508131,
          "year": "2006"
         },
         {
          "ed_att": "hs grad",
          "nativity": "native",
          "pctg": 0.2497221515096952,
          "year": "2006"
         },
         {
          "ed_att": "some college",
          "nativity": "native",
          "pctg": 0.31390360054390004,
          "year": "2006"
         },
         {
          "ed_att": "bachelor",
          "nativity": "native",
          "pctg": 0.1684972587685258,
          "year": "2006"
         },
         {
          "ed_att": "advanced degree",
          "nativity": "native",
          "pctg": 0.1499326333827976,
          "year": "2006"
         },
         {
          "ed_att": "no hs",
          "nativity": "foreign born",
          "pctg": 0.3879945584400862,
          "year": "2007"
         },
         {
          "ed_att": "hs grad",
          "nativity": "foreign born",
          "pctg": 0.18983108491100784,
          "year": "2007"
         },
         {
          "ed_att": "some college",
          "nativity": "foreign born",
          "pctg": 0.17457204398594264,
          "year": "2007"
         },
         {
          "ed_att": "bachelor",
          "nativity": "foreign born",
          "pctg": 0.17788232626686318,
          "year": "2007"
         },
         {
          "ed_att": "advanced degree",
          "nativity": "foreign born",
          "pctg": 0.06971998639610022,
          "year": "2007"
         },
         {
          "ed_att": "no hs",
          "nativity": "native",
          "pctg": 0.10350144733912268,
          "year": "2007"
         },
         {
          "ed_att": "hs grad",
          "nativity": "native",
          "pctg": 0.22607437096415053,
          "year": "2007"
         },
         {
          "ed_att": "some college",
          "nativity": "native",
          "pctg": 0.3482910264974393,
          "year": "2007"
         },
         {
          "ed_att": "bachelor",
          "nativity": "native",
          "pctg": 0.18342240035626808,
          "year": "2007"
         },
         {
          "ed_att": "advanced degree",
          "nativity": "native",
          "pctg": 0.13871075484301937,
          "year": "2007"
         },
         {
          "ed_att": "no hs",
          "nativity": "foreign born",
          "pctg": 0.42152537387723704,
          "year": "2008"
         },
         {
          "ed_att": "hs grad",
          "nativity": "foreign born",
          "pctg": 0.19125998325753976,
          "year": "2008"
         },
         {
          "ed_att": "some college",
          "nativity": "foreign born",
          "pctg": 0.1394375438358334,
          "year": "2008"
         },
         {
          "ed_att": "bachelor",
          "nativity": "foreign born",
          "pctg": 0.15533156858752462,
          "year": "2008"
         },
         {
          "ed_att": "advanced degree",
          "nativity": "foreign born",
          "pctg": 0.0924455304418652,
          "year": "2008"
         },
         {
          "ed_att": "no hs",
          "nativity": "native",
          "pctg": 0.09063736306463058,
          "year": "2008"
         },
         {
          "ed_att": "hs grad",
          "nativity": "native",
          "pctg": 0.2025039610408546,
          "year": "2008"
         },
         {
          "ed_att": "some college",
          "nativity": "native",
          "pctg": 0.3613246887059304,
          "year": "2008"
         },
         {
          "ed_att": "bachelor",
          "nativity": "native",
          "pctg": 0.17112668526492802,
          "year": "2008"
         },
         {
          "ed_att": "advanced degree",
          "nativity": "native",
          "pctg": 0.17440730192365642,
          "year": "2008"
         },
         {
          "ed_att": "no hs",
          "nativity": "foreign born",
          "pctg": 0.3917103053057998,
          "year": "2009"
         },
         {
          "ed_att": "hs grad",
          "nativity": "foreign born",
          "pctg": 0.1772354510423871,
          "year": "2009"
         },
         {
          "ed_att": "some college",
          "nativity": "foreign born",
          "pctg": 0.17103053057998222,
          "year": "2009"
         },
         {
          "ed_att": "bachelor",
          "nativity": "foreign born",
          "pctg": 0.18148404307874716,
          "year": "2009"
         },
         {
          "ed_att": "advanced degree",
          "nativity": "foreign born",
          "pctg": 0.07853966999308369,
          "year": "2009"
         },
         {
          "ed_att": "no hs",
          "nativity": "native",
          "pctg": 0.08093343370254866,
          "year": "2009"
         },
         {
          "ed_att": "hs grad",
          "nativity": "native",
          "pctg": 0.2090762447575008,
          "year": "2009"
         },
         {
          "ed_att": "some college",
          "nativity": "native",
          "pctg": 0.3745187654586515,
          "year": "2009"
         },
         {
          "ed_att": "bachelor",
          "nativity": "native",
          "pctg": 0.16986235079040757,
          "year": "2009"
         },
         {
          "ed_att": "advanced degree",
          "nativity": "native",
          "pctg": 0.1656092052908915,
          "year": "2009"
         },
         {
          "ed_att": "no hs",
          "nativity": "foreign born",
          "pctg": 0.42143975111145254,
          "year": "2010"
         },
         {
          "ed_att": "hs grad",
          "nativity": "foreign born",
          "pctg": 0.15644834506399855,
          "year": "2010"
         },
         {
          "ed_att": "some college",
          "nativity": "foreign born",
          "pctg": 0.1662137637671279,
          "year": "2010"
         },
         {
          "ed_att": "bachelor",
          "nativity": "foreign born",
          "pctg": 0.16072131588296862,
          "year": "2010"
         },
         {
          "ed_att": "advanced degree",
          "nativity": "foreign born",
          "pctg": 0.09517682417445243,
          "year": "2010"
         },
         {
          "ed_att": "no hs",
          "nativity": "native",
          "pctg": 0.08895514850138886,
          "year": "2010"
         },
         {
          "ed_att": "hs grad",
          "nativity": "native",
          "pctg": 0.19453779064120744,
          "year": "2010"
         },
         {
          "ed_att": "some college",
          "nativity": "native",
          "pctg": 0.38029564305277674,
          "year": "2010"
         },
         {
          "ed_att": "bachelor",
          "nativity": "native",
          "pctg": 0.17278704764864708,
          "year": "2010"
         },
         {
          "ed_att": "advanced degree",
          "nativity": "native",
          "pctg": 0.16342437015597988,
          "year": "2010"
         },
         {
          "ed_att": "no hs",
          "nativity": "foreign born",
          "pctg": 0.4211059534335396,
          "year": "2011"
         },
         {
          "ed_att": "hs grad",
          "nativity": "foreign born",
          "pctg": 0.14877136752136752,
          "year": "2011"
         },
         {
          "ed_att": "some college",
          "nativity": "foreign born",
          "pctg": 0.17792145593869732,
          "year": "2011"
         },
         {
          "ed_att": "bachelor",
          "nativity": "foreign born",
          "pctg": 0.16087348953728264,
          "year": "2011"
         },
         {
          "ed_att": "advanced degree",
          "nativity": "foreign born",
          "pctg": 0.09132773356911288,
          "year": "2011"
         },
         {
          "ed_att": "no hs",
          "nativity": "native",
          "pctg": 0.0603618962459283,
          "year": "2011"
         },
         {
          "ed_att": "hs grad",
          "nativity": "native",
          "pctg": 0.19766727752420912,
          "year": "2011"
         },
         {
          "ed_att": "some college",
          "nativity": "native",
          "pctg": 0.3767435233542466,
          "year": "2011"
         },
         {
          "ed_att": "bachelor",
          "nativity": "native",
          "pctg": 0.19215482045210008,
          "year": "2011"
         },
         {
          "ed_att": "advanced degree",
          "nativity": "native",
          "pctg": 0.1730724824235159,
          "year": "2011"
         },
         {
          "ed_att": "no hs",
          "nativity": "foreign born",
          "pctg": 0.37663592446201144,
          "year": "2012"
         },
         {
          "ed_att": "hs grad",
          "nativity": "foreign born",
          "pctg": 0.15157663592446202,
          "year": "2012"
         },
         {
          "ed_att": "some college",
          "nativity": "foreign born",
          "pctg": 0.20072024593763724,
          "year": "2012"
         },
         {
          "ed_att": "bachelor",
          "nativity": "foreign born",
          "pctg": 0.17025032938076418,
          "year": "2012"
         },
         {
          "ed_att": "advanced degree",
          "nativity": "foreign born",
          "pctg": 0.10081686429512517,
          "year": "2012"
         },
         {
          "ed_att": "no hs",
          "nativity": "native",
          "pctg": 0.06772491620282353,
          "year": "2012"
         },
         {
          "ed_att": "hs grad",
          "nativity": "native",
          "pctg": 0.19593650502783058,
          "year": "2012"
         },
         {
          "ed_att": "some college",
          "nativity": "native",
          "pctg": 0.36080506371639526,
          "year": "2012"
         },
         {
          "ed_att": "bachelor",
          "nativity": "native",
          "pctg": 0.208702689908453,
          "year": "2012"
         },
         {
          "ed_att": "advanced degree",
          "nativity": "native",
          "pctg": 0.16683082514449762,
          "year": "2012"
         },
         {
          "ed_att": "no hs",
          "nativity": "foreign born",
          "pctg": 0.3712367423942166,
          "year": "2013"
         },
         {
          "ed_att": "hs grad",
          "nativity": "foreign born",
          "pctg": 0.17104491335986174,
          "year": "2013"
         },
         {
          "ed_att": "some college",
          "nativity": "foreign born",
          "pctg": 0.19337476417711685,
          "year": "2013"
         },
         {
          "ed_att": "bachelor",
          "nativity": "foreign born",
          "pctg": 0.17370832474594544,
          "year": "2013"
         },
         {
          "ed_att": "advanced degree",
          "nativity": "foreign born",
          "pctg": 0.09063525532285936,
          "year": "2013"
         },
         {
          "ed_att": "no hs",
          "nativity": "native",
          "pctg": 0.05458240662627502,
          "year": "2013"
         },
         {
          "ed_att": "hs grad",
          "nativity": "native",
          "pctg": 0.18616458317355625,
          "year": "2013"
         },
         {
          "ed_att": "some college",
          "nativity": "native",
          "pctg": 0.38487997545824065,
          "year": "2013"
         },
         {
          "ed_att": "bachelor",
          "nativity": "native",
          "pctg": 0.21087123245647674,
          "year": "2013"
         },
         {
          "ed_att": "advanced degree",
          "nativity": "native",
          "pctg": 0.16350180228545133,
          "year": "2013"
         },
         {
          "ed_att": "no hs",
          "nativity": "foreign born",
          "pctg": 0.3849198738847933,
          "year": "2014"
         },
         {
          "ed_att": "hs grad",
          "nativity": "foreign born",
          "pctg": 0.20363309987189027,
          "year": "2014"
         },
         {
          "ed_att": "some college",
          "nativity": "foreign born",
          "pctg": 0.1777043043334842,
          "year": "2014"
         },
         {
          "ed_att": "bachelor",
          "nativity": "foreign born",
          "pctg": 0.15452948441587333,
          "year": "2014"
         },
         {
          "ed_att": "advanced degree",
          "nativity": "foreign born",
          "pctg": 0.0792132374939589,
          "year": "2014"
         },
         {
          "ed_att": "no hs",
          "nativity": "native",
          "pctg": 0.06409958660411538,
          "year": "2014"
         },
         {
          "ed_att": "hs grad",
          "nativity": "native",
          "pctg": 0.2095622958180439,
          "year": "2014"
         },
         {
          "ed_att": "some college",
          "nativity": "native",
          "pctg": 0.3566313654450586,
          "year": "2014"
         },
         {
          "ed_att": "bachelor",
          "nativity": "native",
          "pctg": 0.1979152151361729,
          "year": "2014"
         },
         {
          "ed_att": "advanced degree",
          "nativity": "native",
          "pctg": 0.17179153699660923,
          "year": "2014"
         },
         {
          "ed_att": "no hs",
          "nativity": "foreign born",
          "pctg": 0.3841297563489564,
          "year": "2015"
         },
         {
          "ed_att": "hs grad",
          "nativity": "foreign born",
          "pctg": 0.1576001374294958,
          "year": "2015"
         },
         {
          "ed_att": "some college",
          "nativity": "foreign born",
          "pctg": 0.17976780141437856,
          "year": "2015"
         },
         {
          "ed_att": "bachelor",
          "nativity": "foreign born",
          "pctg": 0.18369026827382828,
          "year": "2015"
         },
         {
          "ed_att": "advanced degree",
          "nativity": "foreign born",
          "pctg": 0.09481203653334097,
          "year": "2015"
         },
         {
          "ed_att": "no hs",
          "nativity": "native",
          "pctg": 0.06457627969285056,
          "year": "2015"
         },
         {
          "ed_att": "hs grad",
          "nativity": "native",
          "pctg": 0.1853899400448602,
          "year": "2015"
         },
         {
          "ed_att": "some college",
          "nativity": "native",
          "pctg": 0.38270913842958454,
          "year": "2015"
         },
         {
          "ed_att": "bachelor",
          "nativity": "native",
          "pctg": 0.20316800951252187,
          "year": "2015"
         },
         {
          "ed_att": "advanced degree",
          "nativity": "native",
          "pctg": 0.16415663232018285,
          "year": "2015"
         },
         {
          "ed_att": "no hs",
          "nativity": "foreign born",
          "pctg": 0.429573192749332,
          "year": "2016"
         },
         {
          "ed_att": "hs grad",
          "nativity": "foreign born",
          "pctg": 0.16438939842565176,
          "year": "2016"
         },
         {
          "ed_att": "some college",
          "nativity": "foreign born",
          "pctg": 0.1560915721817,
          "year": "2016"
         },
         {
          "ed_att": "bachelor",
          "nativity": "foreign born",
          "pctg": 0.1816566765364339,
          "year": "2016"
         },
         {
          "ed_att": "advanced degree",
          "nativity": "foreign born",
          "pctg": 0.06828916010688235,
          "year": "2016"
         },
         {
          "ed_att": "no hs",
          "nativity": "native",
          "pctg": 0.06335766312248362,
          "year": "2016"
         },
         {
          "ed_att": "hs grad",
          "nativity": "native",
          "pctg": 0.17540661699229007,
          "year": "2016"
         },
         {
          "ed_att": "some college",
          "nativity": "native",
          "pctg": 0.39041320049623635,
          "year": "2016"
         },
         {
          "ed_att": "bachelor",
          "nativity": "native",
          "pctg": 0.21741926645305162,
          "year": "2016"
         },
         {
          "ed_att": "advanced degree",
          "nativity": "native",
          "pctg": 0.15340325293593832,
          "year": "2016"
         }
        ]
       },
       "encoding": {
        "color": {
         "field": "ed_att",
         "type": "nominal"
        },
        "column": {
         "field": "year",
         "type": "ordinal"
        },
        "x": {
         "field": "nativity",
         "type": "ordinal"
        },
        "y": {
         "axis": {
          "format": "%"
         },
         "field": "pctg",
         "scale": {
          "domain": [
           0,
           1
          ]
         },
         "type": "quantitative"
        }
       },
       "mark": "bar"
      },
      "image/png": "[encoded data removed]",
      "text/plain": [
       "<VegaLite 2 object>\n",
       "\n",
       "If you see this message, it means the renderer has not been properly enabled\n",
       "for the frontend that you are using. For more information, see\n",
       "https://altair-viz.github.io/user_guide/troubleshooting.html\n"
      ]
     },
     "execution_count": 98,
     "metadata": {},
     "output_type": "execute_result"
    }
   ],
   "source": [
    "data = education_pct.reset_index()\n",
    "data.columns = ['year', 'nativity', 'ed_att', 'pctg']\n",
    "alt.Chart(data).mark_bar().encode(\n",
    "    x = alt.X('nativity:O'),\n",
    "    y = alt.Y('pctg:Q', scale = alt.Scale(domain=[0,1]), axis = alt.Axis(format=\"%\")),\n",
    "    color = alt.Color('ed_att:N'),\n",
    "    column = alt.Column('year:O')\n",
    ")"
   ]
  },
  {
   "cell_type": "code",
   "execution_count": null,
   "metadata": {},
   "outputs": [],
   "source": []
  }
 ],
 "metadata": {
  "kernelspec": {
   "display_name": "Python 3",
   "language": "python",
   "name": "python3"
  },
  "language_info": {
   "codemirror_mode": {
    "name": "ipython",
    "version": 3
   },
   "file_extension": ".py",
   "mimetype": "text/x-python",
   "name": "python",
   "nbconvert_exporter": "python",
   "pygments_lexer": "ipython3",
   "version": "3.6.6"
  }
 },
 "nbformat": 4,
 "nbformat_minor": 2
}
