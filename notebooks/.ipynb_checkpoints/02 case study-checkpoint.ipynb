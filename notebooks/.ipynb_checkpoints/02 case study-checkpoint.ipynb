{
 "cells": [
  {
   "cell_type": "markdown",
   "metadata": {},
   "source": [
    "# Clean up!\n",
    "\n",
    "##### Exercise 00: Cleaning up a dataset.\n",
    "\n",
    "In the last notebook we found out the `Value` column of our dataset was not _numeric_ which means we cannot do math on it. \n",
    "\n",
    "__Goal__: Clean the dataset and get some summary statistics about the bee population in the ~~US.~~ California."
   ]
  },
  {
   "cell_type": "markdown",
   "metadata": {},
   "source": [
    "*** \n",
    "Use this space to write out the steps you think you'll need to take to clean the `Value` column in your dataset. <br>\n",
    "_Hint:_ Right now, the column is of `dtype` _object_ which means it's not numeric. With computers, most things that are non-numeric are stored as `strings`.\n",
    "\n",
    "remember the `python` zen! if you don't remember it run:\n",
    "```python\n",
    "import this\n",
    "```"
   ]
  },
  {
   "cell_type": "code",
   "execution_count": null,
   "metadata": {},
   "outputs": [],
   "source": []
  },
  {
   "cell_type": "markdown",
   "metadata": {},
   "source": [
    "***"
   ]
  },
  {
   "cell_type": "markdown",
   "metadata": {},
   "source": [
    "##### STEPS\n",
    "\n",
    "1. Step 1\n",
    "2. Step 2\n",
    "3. Step 3\n",
    "4. Step 4\n",
    "5. Step 5\n",
    "6. Step 6\n",
    "  * step 6.1\n",
    "  * step 6.2\n",
    "\n",
    "etc"
   ]
  },
  {
   "cell_type": "markdown",
   "metadata": {},
   "source": [
    "***\n",
    "__Note__: `python` is usually not hard to read and for a while was not taken seriously as a programming language because that simplicity. However, because of that same simplicity it's fairly easy to turn `pseudo-code` into `python code`. \n",
    "***"
   ]
  },
  {
   "cell_type": "markdown",
   "metadata": {},
   "source": [
    "#### Load the data\n",
    "\n",
    "```python\n",
    "filepath = \"../data/raw/Bee Colony Census Data by County.csv\"\n",
    "```\n",
    "_note_ \"`../`\" just means \"go back up a folder in your path. The current directory is `\"C://notebooks/\"` so we're saying \"go back to `C://` then into `data/raw/` to find the `csv` file \"Bee Colony Census Data by County.csv\""
   ]
  },
  {
   "cell_type": "code",
   "execution_count": null,
   "metadata": {},
   "outputs": [],
   "source": []
  },
  {
   "cell_type": "markdown",
   "metadata": {},
   "source": [
    "#### clean up"
   ]
  },
  {
   "cell_type": "code",
   "execution_count": null,
   "metadata": {},
   "outputs": [],
   "source": []
  },
  {
   "cell_type": "code",
   "execution_count": null,
   "metadata": {},
   "outputs": [],
   "source": []
  },
  {
   "cell_type": "code",
   "execution_count": null,
   "metadata": {},
   "outputs": [],
   "source": []
  },
  {
   "cell_type": "code",
   "execution_count": null,
   "metadata": {},
   "outputs": [],
   "source": []
  },
  {
   "cell_type": "markdown",
   "metadata": {},
   "source": [
    "#### summary statistics"
   ]
  },
  {
   "cell_type": "code",
   "execution_count": null,
   "metadata": {},
   "outputs": [],
   "source": []
  },
  {
   "cell_type": "code",
   "execution_count": null,
   "metadata": {},
   "outputs": [],
   "source": []
  },
  {
   "cell_type": "code",
   "execution_count": null,
   "metadata": {},
   "outputs": [],
   "source": []
  },
  {
   "cell_type": "markdown",
   "metadata": {},
   "source": [
    "#### save your data\n",
    "\n",
    "The _data_ folder has 2 directories inside _raw_ (where you got your __Bee Colony Census Data__ from) and _processed_ where I'd suggest saving it. This workflow is not _necessary_ and if you have a personal way to organize your projects you should use it.\n",
    "\n",
    "```python\n",
    "suggested_filepath_to_save = \"../data/processed/NAME_YOUR_FILE.csv\"\n",
    "```"
   ]
  },
  {
   "cell_type": "code",
   "execution_count": null,
   "metadata": {},
   "outputs": [],
   "source": []
  }
 ],
 "metadata": {
  "kernelspec": {
   "display_name": "Python 3",
   "language": "python",
   "name": "python3"
  },
  "language_info": {
   "codemirror_mode": {
    "name": "ipython",
    "version": 3
   },
   "file_extension": ".py",
   "mimetype": "text/x-python",
   "name": "python",
   "nbconvert_exporter": "python",
   "pygments_lexer": "ipython3",
   "version": "3.6.6"
  }
 },
 "nbformat": 4,
 "nbformat_minor": 2
}
