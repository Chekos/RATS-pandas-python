{
 "cells": [
  {
   "cell_type": "markdown",
   "metadata": {},
   "source": [
    "# Solution 00: .str accessor"
   ]
  },
  {
   "cell_type": "code",
   "execution_count": null,
   "metadata": {},
   "outputs": [],
   "source": [
    "import pandas as pd"
   ]
  },
  {
   "cell_type": "code",
   "execution_count": null,
   "metadata": {},
   "outputs": [],
   "source": [
    "df = pd.read_csv(\"../data/raw/Bee Colony Census Data by County.csv\")"
   ]
  },
  {
   "cell_type": "code",
   "execution_count": null,
   "metadata": {},
   "outputs": [],
   "source": [
    "df.head()"
   ]
  },
  {
   "cell_type": "code",
   "execution_count": null,
   "metadata": {},
   "outputs": [],
   "source": [
    "df['Value'].describe()"
   ]
  },
  {
   "cell_type": "markdown",
   "metadata": {},
   "source": [
    "The top value is (D) ????\n",
    "Most of the time you'll be working with well documented (hopefully!) so you can just read the data dictionary and find out what (D) stands for.\n",
    "Here's [this dataset's](../data/documents/glossary-for-bee-stats.pdf).\n",
    "\n",
    "Now that you know what the problem is you can address it."
   ]
  },
  {
   "cell_type": "markdown",
   "metadata": {},
   "source": [
    "Let's see how many rows have '(D)' as their 'Value'"
   ]
  },
  {
   "cell_type": "code",
   "execution_count": null,
   "metadata": {},
   "outputs": [],
   "source": [
    "df[df['Value'] == '(D)']"
   ]
  },
  {
   "cell_type": "markdown",
   "metadata": {},
   "source": [
    "None?\n",
    "let's try something different."
   ]
  },
  {
   "cell_type": "code",
   "execution_count": null,
   "metadata": {},
   "outputs": [],
   "source": [
    "df[df['Value'].str.contains('(D)')]"
   ]
  },
  {
   "cell_type": "markdown",
   "metadata": {},
   "source": [
    "So 2306 rows have '(D)' as their 'Value' but they are not '(D)'.\n",
    "\n",
    "Let's take a closer look at one."
   ]
  },
  {
   "cell_type": "code",
   "execution_count": null,
   "metadata": {},
   "outputs": [],
   "source": [
    "df.iloc[5] # so this grabs the row at index 5, which we saw is in those that have (D) as 'Value'"
   ]
  },
  {
   "cell_type": "code",
   "execution_count": null,
   "metadata": {},
   "outputs": [],
   "source": [
    "df.iloc[5]['Value'] # this grabs the 'Value' column of the row at index 5"
   ]
  },
  {
   "cell_type": "code",
   "execution_count": null,
   "metadata": {},
   "outputs": [],
   "source": [
    "![reaction](https://i.imgflip.com/wwnet.jpg)"
   ]
  },
  {
   "cell_type": "code",
   "execution_count": null,
   "metadata": {},
   "outputs": [],
   "source": [
    "df.loc[df['Value'] == ' (D)', 'Value'] = 0"
   ]
  },
  {
   "cell_type": "markdown",
   "metadata": {},
   "source": [
    "The two parts of `.loc[]` are 1) the _row indexer_ and 2) the _column indexer_. <br>\n",
    "The _row indexer_ here is `df['Value'] == ' (D)'` which means \"grab all the rows were `Value` == ' (D)' <br>\n",
    "The _column indexer_ is just `Value` because we want to grab the whole __series__ `Value`.\n",
    "\n",
    "Now you can set the (D) values to 0, but that'd mess up your math. What you really want to set them to is `Null` and `pandas` has a special way of denoting `Null`: `nan`. `NaN` means _Not a Number_ but you can't just write 'nan' as the value. To assign `nan` values to anything with `pandas` you use `pd.np.nan` which means \"from `pandas` grab `numpy` from `numpy` grab `nan`.\"\n",
    "\n",
    "`NumPy` is another library on top of which `pandas` is built. It's actually kinda great, lots of science depends on it check out [numpy.org](numpy.org)"
   ]
  },
  {
   "cell_type": "code",
   "execution_count": null,
   "metadata": {},
   "outputs": [],
   "source": [
    "df['Value'].astype(float)"
   ]
  },
  {
   "cell_type": "markdown",
   "metadata": {},
   "source": [
    "The error is that you cannot convert \"10,012\" to 10012 because of the comma. <br>\n",
    "But there's an easy way to `.replace` a character in a string."
   ]
  },
  {
   "cell_type": "code",
   "execution_count": null,
   "metadata": {},
   "outputs": [],
   "source": [
    "df['Value'].str.replace(',','') # look up .replace in python."
   ]
  },
  {
   "cell_type": "code",
   "execution_count": null,
   "metadata": {},
   "outputs": [],
   "source": [
    "df['Value'] = df['Value'].str.replace(',','')\n",
    "\n",
    "df['Value'].astype(float) # Voilà"
   ]
  },
  {
   "cell_type": "code",
   "execution_count": null,
   "metadata": {},
   "outputs": [],
   "source": [
    "df['Value'] = df['Value'].astype(float)"
   ]
  },
  {
   "cell_type": "markdown",
   "metadata": {},
   "source": [
    "Now you can do math."
   ]
  },
  {
   "cell_type": "code",
   "execution_count": null,
   "metadata": {},
   "outputs": [],
   "source": [
    "df.groupby(['Year', 'State'])['Value'].mean()"
   ]
  },
  {
   "cell_type": "code",
   "execution_count": null,
   "metadata": {},
   "outputs": [],
   "source": [
    "ca_df = df[df['State'] == 'CALIFORNIA']\n",
    "\n",
    "ca_df.head()"
   ]
  },
  {
   "cell_type": "code",
   "execution_count": null,
   "metadata": {},
   "outputs": [],
   "source": [
    "ca_df.groupby(['Year', 'Ag District'])['Value'].sum()"
   ]
  },
  {
   "cell_type": "code",
   "execution_count": null,
   "metadata": {},
   "outputs": [],
   "source": [
    "# diff view\n",
    "\n",
    "ca_df.groupby(['Ag District', 'Year'])['Value'].sum()\n",
    "\n",
    "ca_df.groupby(['Ag District', 'Year'])['Value'].mean()\n",
    "\n",
    "ca_df.groupby(['Ag District', 'Year'])['Value'].median()"
   ]
  },
  {
   "cell_type": "markdown",
   "metadata": {},
   "source": [
    "***\n",
    "***"
   ]
  },
  {
   "cell_type": "markdown",
   "metadata": {},
   "source": [
    "## Solution 01: just ignore it.\n",
    "\n",
    "You can also just ignore anything that `contains` '(D)'"
   ]
  },
  {
   "cell_type": "code",
   "execution_count": null,
   "metadata": {},
   "outputs": [],
   "source": [
    "dff = df[df['Value'].str.contains('(D)') != True]"
   ]
  },
  {
   "cell_type": "code",
   "execution_count": null,
   "metadata": {},
   "outputs": [],
   "source": [
    "dff['Value'] = dff['Value'].str.replace(',','')"
   ]
  },
  {
   "cell_type": "code",
   "execution_count": null,
   "metadata": {},
   "outputs": [],
   "source": [
    "dff['Value'] = dff['Value'].astype(float)"
   ]
  },
  {
   "cell_type": "code",
   "execution_count": null,
   "metadata": {},
   "outputs": [],
   "source": [
    "dff.head()"
   ]
  },
  {
   "cell_type": "code",
   "execution_count": null,
   "metadata": {},
   "outputs": [],
   "source": [
    "dff[dff['State'] == 'CALIFORNIA'].groupby('Ag District')['Value'].mean()"
   ]
  },
  {
   "cell_type": "markdown",
   "metadata": {},
   "source": [
    "This one is filtering the __dataframe__ `dff` first. From there, you `groupby` 'Ag District' and you grab the 'Value' column, calculate the mean for each group."
   ]
  },
  {
   "cell_type": "code",
   "execution_count": null,
   "metadata": {},
   "outputs": [],
   "source": [
    "dff[dff['State'] == 'CALIFORNIA'].groupby(['Year','Ag District'])['Value'].mean()"
   ]
  },
  {
   "cell_type": "markdown",
   "metadata": {},
   "source": [
    "***\n",
    "[Next notebook](04_index.ipynb)"
   ]
  }
 ],
 "metadata": {
  "kernelspec": {
   "display_name": "Python 3",
   "language": "python",
   "name": "python3"
  },
  "language_info": {
   "codemirror_mode": {
    "name": "ipython",
    "version": 3
   },
   "file_extension": ".py",
   "mimetype": "text/x-python",
   "name": "python",
   "nbconvert_exporter": "python",
   "pygments_lexer": "ipython3",
   "version": "3.6.5"
  }
 },
 "nbformat": 4,
 "nbformat_minor": 2
}
