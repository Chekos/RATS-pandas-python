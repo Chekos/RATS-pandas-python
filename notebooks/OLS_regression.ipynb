{
 "cells": [
  {
   "cell_type": "markdown",
   "metadata": {},
   "source": [
    "`statsmodels` is a powerful statistics python statistics library, one of many that can do regressions.\n",
    "\n",
    "***\n",
    "First we import our `pandas` library and load the data"
   ]
  },
  {
   "cell_type": "code",
   "execution_count": null,
   "metadata": {},
   "outputs": [],
   "source": [
    "import pandas as pd"
   ]
  },
  {
   "cell_type": "code",
   "execution_count": null,
   "metadata": {},
   "outputs": [],
   "source": [
    "df = pd.read_stata(\"../data/raw/usa_00026.dta\")\n",
    "\n",
    "df.head()"
   ]
  },
  {
   "cell_type": "code",
   "execution_count": null,
   "metadata": {},
   "outputs": [],
   "source": [
    "df.describe()"
   ]
  },
  {
   "cell_type": "markdown",
   "metadata": {},
   "source": [
    "***\n",
    "__Note__:Normally, you would move all your `import` statements to the top of your __notebook__ or __script__ so you can see right away what packages you need to install.\n",
    "***"
   ]
  },
  {
   "cell_type": "code",
   "execution_count": null,
   "metadata": {},
   "outputs": [],
   "source": [
    "import statsmodels.formula.api as smf "
   ]
  },
  {
   "cell_type": "markdown",
   "metadata": {},
   "source": [
    "The statement above might look different that our past `import` statements but it follows the same syntax: _import this package as thisname_ the only difference is that we are digging deeper into `statsmodels` for the specific part of it that we want. <br>\n",
    "You are not expected to know exactly where these packages are but eventually you might learn them by heart if you use them often enough."
   ]
  },
  {
   "cell_type": "code",
   "execution_count": null,
   "metadata": {},
   "outputs": [],
   "source": [
    "dff = df[['sex', 'wkswork2','inctot', 'perwt']]"
   ]
  },
  {
   "cell_type": "markdown",
   "metadata": {},
   "source": [
    "Now that we created our _subset_ to work on we need to write the formula.<br>\n",
    "`statsmodels` uses `patsy` a python package for describing statistical models. <br> \n",
    "Unless you use it daily or are doing some advanced statistics, you might not interact with it much. <br>\n",
    "The main thing to remember is that `~` is used to separate the _left side_ of your formula from the _right side_. <br>\n",
    "If you use `.WLS()` instead of `.wls()` you can explicitilly pass the `endog` and `exog` parameters for your formula."
   ]
  },
  {
   "cell_type": "code",
   "execution_count": null,
   "metadata": {},
   "outputs": [],
   "source": [
    "model = smf.wls(formula= 'inctot ~ sex * wkswork2', data = dff, weights = dff['perwt'])"
   ]
  },
  {
   "cell_type": "code",
   "execution_count": null,
   "metadata": {},
   "outputs": [],
   "source": [
    "results = model.fit()"
   ]
  },
  {
   "cell_type": "code",
   "execution_count": null,
   "metadata": {},
   "outputs": [],
   "source": [
    "results.summary()"
   ]
  },
  {
   "cell_type": "markdown",
   "metadata": {},
   "source": [
    "***\n",
    "__Note__: in here you are _creating_ a model and then _fitting_ it to your data. It's a two-step process. You could _chain_ the methods to do it in one line of code but it's 2 things happening.\n",
    "```python\n",
    "results = smf.wls(formula = 'intot ~ sex * wkswork2', data = dff, weights = dff['perwt']).fit()\n",
    "```\n",
    "***"
   ]
  },
  {
   "cell_type": "markdown",
   "metadata": {},
   "source": [
    "You can save your `summary` results in a text file by running the following code. <br>"
   ]
  },
  {
   "cell_type": "code",
   "execution_count": null,
   "metadata": {},
   "outputs": [],
   "source": [
    "with open('../data/processed/summary_results.txt', 'w', encoding = 'utf-8') as file:\n",
    "    file.write(results.summary().as_text())"
   ]
  }
 ],
 "metadata": {
  "kernelspec": {
   "display_name": "Python 3",
   "language": "python",
   "name": "python3"
  },
  "language_info": {
   "codemirror_mode": {
    "name": "ipython",
    "version": 3
   },
   "file_extension": ".py",
   "mimetype": "text/x-python",
   "name": "python",
   "nbconvert_exporter": "python",
   "pygments_lexer": "ipython3",
   "version": "3.6.5"
  }
 },
 "nbformat": 4,
 "nbformat_minor": 2
}
