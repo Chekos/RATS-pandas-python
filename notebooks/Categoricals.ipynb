{
 "cells": [
  {
   "cell_type": "code",
   "execution_count": null,
   "metadata": {},
   "outputs": [],
   "source": [
    "import pandas as pd"
   ]
  },
  {
   "cell_type": "code",
   "execution_count": null,
   "metadata": {},
   "outputs": [],
   "source": [
    "df = pd.read_stata(\"../data/raw/usa_00026.dta\")\n",
    "\n",
    "df.head()"
   ]
  },
  {
   "cell_type": "code",
   "execution_count": null,
   "metadata": {},
   "outputs": [],
   "source": [
    "dff = df[df['empstat'] == 'unemployed'].groupby(['year','sex','looking'])['perwt'].sum().groupby(['year','sex']).apply(lambda x: x/x.sum()).to_frame()"
   ]
  },
  {
   "cell_type": "code",
   "execution_count": null,
   "metadata": {},
   "outputs": [],
   "source": [
    "%matplotlib inline\n",
    "dff.xs('no, did not look for work', level = 2).plot.bar()"
   ]
  },
  {
   "cell_type": "code",
   "execution_count": null,
   "metadata": {},
   "outputs": [],
   "source": [
    "df['weightet_inc'] = df['perwt'] * df['inctot']"
   ]
  },
  {
   "cell_type": "code",
   "execution_count": null,
   "metadata": {},
   "outputs": [],
   "source": [
    "df['educd'].unique()"
   ]
  },
  {
   "cell_type": "code",
   "execution_count": null,
   "metadata": {},
   "outputs": [],
   "source": [
    "print(df['educd'].cat.categories)"
   ]
  },
  {
   "cell_type": "code",
   "execution_count": null,
   "metadata": {},
   "outputs": [],
   "source": [
    "df.loc[(df['educd'] > \"bachelor's degree\"),'educ_attainment'] = 'advanced degree'\n",
    "df.loc[(df['educd'] == \"bachelor's degree\"),'educ_attainment'] = 'bachelor'\n",
    "df.loc[(df['educd'] < \"bachelor's degree\"),'educ_attainment'] = 'some college'\n",
    "df.loc[(df['educd'] <= \"ged or alternative credential\"),'educ_attainment'] = 'hs grad'\n",
    "df.loc[(df['educd'] < \"high school graduate or ged\"),'educ_attainment'] = 'no hs'\n",
    "\n",
    "df['educ_attainment'] = pd.Categorical(df['educ_attainment'], categories=['no hs', 'hs grad', 'some college', 'bachelor', 'advanced degree'], ordered = True)\n",
    "\n",
    "df.head()"
   ]
  },
  {
   "cell_type": "code",
   "execution_count": null,
   "metadata": {},
   "outputs": [],
   "source": [
    "df['citizen'].cat.categories"
   ]
  },
  {
   "cell_type": "code",
   "execution_count": null,
   "metadata": {},
   "outputs": [],
   "source": [
    "df['nativity'] = 'foreign born'\n",
    "df.loc[(df['citizen'] < 'naturalized citizen'), 'nativity'] = 'native'"
   ]
  },
  {
   "cell_type": "code",
   "execution_count": null,
   "metadata": {},
   "outputs": [],
   "source": [
    "education = df.groupby(['year','nativity','educ_attainment'])['perwt'].sum().to_frame()\n",
    "education_pct = education.groupby(['year', 'nativity']).apply(lambda x: x/x.sum())"
   ]
  },
  {
   "cell_type": "code",
   "execution_count": null,
   "metadata": {},
   "outputs": [],
   "source": [
    "education_pct.style.format('{:.2%}')"
   ]
  },
  {
   "cell_type": "code",
   "execution_count": null,
   "metadata": {},
   "outputs": [],
   "source": [
    "import altair as alt"
   ]
  },
  {
   "cell_type": "code",
   "execution_count": null,
   "metadata": {},
   "outputs": [],
   "source": [
    "data = education_pct.reset_index()\n",
    "data.columns = ['year', 'nativity', 'ed_att', 'pctg']\n",
    "alt.Chart(data).mark_bar().encode(\n",
    "    x = alt.X('nativity:O'),\n",
    "    y = alt.Y('pctg:Q', scale = alt.Scale(domain=[0,1]), axis = alt.Axis(format=\"%\")),\n",
    "    color = alt.Color('ed_att:N'),\n",
    "    column = alt.Column('year:O')\n",
    ")"
   ]
  },
  {
   "cell_type": "code",
   "execution_count": null,
   "metadata": {},
   "outputs": [],
   "source": []
  }
 ],
 "metadata": {
  "kernelspec": {
   "display_name": "Python 3",
   "language": "python",
   "name": "python3"
  },
  "language_info": {
   "codemirror_mode": {
    "name": "ipython",
    "version": 3
   },
   "file_extension": ".py",
   "mimetype": "text/x-python",
   "name": "python",
   "nbconvert_exporter": "python",
   "pygments_lexer": "ipython3",
   "version": "3.6.5"
  }
 },
 "nbformat": 4,
 "nbformat_minor": 2
}
