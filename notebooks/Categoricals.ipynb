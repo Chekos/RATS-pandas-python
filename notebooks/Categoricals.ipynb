{
 "cells": [
  {
   "cell_type": "markdown",
   "metadata": {},
   "source": [
    "# Working with Categorical data\n",
    "\n",
    "Categorical data has special attributes and it can be leveraged to make your analyses many times faster. In `stata` we are used to working with categorical data under the hood though they don't call it categoricals. <br>\n",
    "Categorical __series__ are stored as _integers_ and those integers represent a _string_ value. It can be as simple as: \n",
    "\n",
    "\n",
    "| Value | Code |\n",
    "| :----: | :------: |\n",
    "| 0 | \"Male\" |\n",
    "| 1 | \"Female\" |\n",
    "\n",
    "because `pandas` stores the data as _integers_ they take up __a lot less memory__ essentially making your analysis faster."
   ]
  },
  {
   "cell_type": "markdown",
   "metadata": {},
   "source": [
    "***\n",
    "In this notebook we will take advantage of these attributes to analyze ACS data.\n",
    "\n",
    "First, \n",
    "```python\n",
    "import pandas # and load the data\n",
    "```"
   ]
  },
  {
   "cell_type": "code",
   "execution_count": 1,
   "metadata": {},
   "outputs": [],
   "source": []
  },
  {
   "cell_type": "code",
   "execution_count": 2,
   "metadata": {},
   "outputs": [
    {
     "data": {
      "text/html": [
       "<div>\n",
       "<style scoped>\n",
       "    .dataframe tbody tr th:only-of-type {\n",
       "        vertical-align: middle;\n",
       "    }\n",
       "\n",
       "    .dataframe tbody tr th {\n",
       "        vertical-align: top;\n",
       "    }\n",
       "\n",
       "    .dataframe thead th {\n",
       "        text-align: right;\n",
       "    }\n",
       "</style>\n",
       "<table border=\"1\" class=\"dataframe\">\n",
       "  <thead>\n",
       "    <tr style=\"text-align: right;\">\n",
       "      <th></th>\n",
       "      <th>year</th>\n",
       "      <th>datanum</th>\n",
       "      <th>serial</th>\n",
       "      <th>hhwt</th>\n",
       "      <th>statefip</th>\n",
       "      <th>countyfips</th>\n",
       "      <th>gq</th>\n",
       "      <th>pernum</th>\n",
       "      <th>perwt</th>\n",
       "      <th>sex</th>\n",
       "      <th>...</th>\n",
       "      <th>occ2010</th>\n",
       "      <th>ind</th>\n",
       "      <th>wkswork2</th>\n",
       "      <th>uhrswork</th>\n",
       "      <th>looking</th>\n",
       "      <th>availble</th>\n",
       "      <th>inctot</th>\n",
       "      <th>incwage</th>\n",
       "      <th>vetstat</th>\n",
       "      <th>vetstatd</th>\n",
       "    </tr>\n",
       "  </thead>\n",
       "  <tbody>\n",
       "    <tr>\n",
       "      <th>0</th>\n",
       "      <td>2000</td>\n",
       "      <td>3</td>\n",
       "      <td>218</td>\n",
       "      <td>600</td>\n",
       "      <td>california</td>\n",
       "      <td>NaN</td>\n",
       "      <td>households under 1970 definition</td>\n",
       "      <td>1</td>\n",
       "      <td>671</td>\n",
       "      <td>male</td>\n",
       "      <td>...</td>\n",
       "      <td>purchasing managers</td>\n",
       "      <td>607</td>\n",
       "      <td>n/a</td>\n",
       "      <td>n/a</td>\n",
       "      <td>no, did not look for work</td>\n",
       "      <td>n/a</td>\n",
       "      <td>24800</td>\n",
       "      <td>0</td>\n",
       "      <td>not a veteran</td>\n",
       "      <td>no military service</td>\n",
       "    </tr>\n",
       "    <tr>\n",
       "      <th>1</th>\n",
       "      <td>2000</td>\n",
       "      <td>3</td>\n",
       "      <td>226</td>\n",
       "      <td>600</td>\n",
       "      <td>california</td>\n",
       "      <td>NaN</td>\n",
       "      <td>households under 1970 definition</td>\n",
       "      <td>2</td>\n",
       "      <td>610</td>\n",
       "      <td>female</td>\n",
       "      <td>...</td>\n",
       "      <td>property, real estate, and community associati...</td>\n",
       "      <td>707</td>\n",
       "      <td>14-26 weeks</td>\n",
       "      <td>30</td>\n",
       "      <td>no, did not look for work</td>\n",
       "      <td>no, other reason(s)</td>\n",
       "      <td>103640</td>\n",
       "      <td>100000</td>\n",
       "      <td>not a veteran</td>\n",
       "      <td>no military service</td>\n",
       "    </tr>\n",
       "    <tr>\n",
       "      <th>2</th>\n",
       "      <td>2000</td>\n",
       "      <td>3</td>\n",
       "      <td>784</td>\n",
       "      <td>600</td>\n",
       "      <td>california</td>\n",
       "      <td>NaN</td>\n",
       "      <td>households under 1970 definition</td>\n",
       "      <td>2</td>\n",
       "      <td>618</td>\n",
       "      <td>female</td>\n",
       "      <td>...</td>\n",
       "      <td>unemployed, with no work experience in the las...</td>\n",
       "      <td>0</td>\n",
       "      <td>n/a</td>\n",
       "      <td>n/a</td>\n",
       "      <td>no, did not look for work</td>\n",
       "      <td>n/a</td>\n",
       "      <td>34000</td>\n",
       "      <td>0</td>\n",
       "      <td>not a veteran</td>\n",
       "      <td>no military service</td>\n",
       "    </tr>\n",
       "    <tr>\n",
       "      <th>3</th>\n",
       "      <td>2000</td>\n",
       "      <td>3</td>\n",
       "      <td>1033</td>\n",
       "      <td>600</td>\n",
       "      <td>california</td>\n",
       "      <td>NaN</td>\n",
       "      <td>households under 1970 definition</td>\n",
       "      <td>1</td>\n",
       "      <td>637</td>\n",
       "      <td>male</td>\n",
       "      <td>...</td>\n",
       "      <td>first-line supervisors of farming, fishing, an...</td>\n",
       "      <td>27</td>\n",
       "      <td>50-52 weeks</td>\n",
       "      <td>50</td>\n",
       "      <td>n/a</td>\n",
       "      <td>n/a</td>\n",
       "      <td>37500</td>\n",
       "      <td>37500</td>\n",
       "      <td>veteran</td>\n",
       "      <td>veteran</td>\n",
       "    </tr>\n",
       "    <tr>\n",
       "      <th>4</th>\n",
       "      <td>2000</td>\n",
       "      <td>3</td>\n",
       "      <td>1115</td>\n",
       "      <td>600</td>\n",
       "      <td>california</td>\n",
       "      <td>NaN</td>\n",
       "      <td>households under 1970 definition</td>\n",
       "      <td>1</td>\n",
       "      <td>579</td>\n",
       "      <td>female</td>\n",
       "      <td>...</td>\n",
       "      <td>property, real estate, and community associati...</td>\n",
       "      <td>707</td>\n",
       "      <td>50-52 weeks</td>\n",
       "      <td>16</td>\n",
       "      <td>no, did not look for work</td>\n",
       "      <td>no, other reason(s)</td>\n",
       "      <td>145000</td>\n",
       "      <td>120000</td>\n",
       "      <td>not a veteran</td>\n",
       "      <td>no military service</td>\n",
       "    </tr>\n",
       "  </tbody>\n",
       "</table>\n",
       "<p>5 rows × 39 columns</p>\n",
       "</div>"
      ],
      "text/plain": [
       "   year  datanum  serial  hhwt    statefip  countyfips  \\\n",
       "0  2000        3     218   600  california         NaN   \n",
       "1  2000        3     226   600  california         NaN   \n",
       "2  2000        3     784   600  california         NaN   \n",
       "3  2000        3    1033   600  california         NaN   \n",
       "4  2000        3    1115   600  california         NaN   \n",
       "\n",
       "                                 gq  pernum  perwt     sex  \\\n",
       "0  households under 1970 definition       1    671    male   \n",
       "1  households under 1970 definition       2    610  female   \n",
       "2  households under 1970 definition       2    618  female   \n",
       "3  households under 1970 definition       1    637    male   \n",
       "4  households under 1970 definition       1    579  female   \n",
       "\n",
       "            ...                                                      occ2010  \\\n",
       "0           ...                                          purchasing managers   \n",
       "1           ...            property, real estate, and community associati...   \n",
       "2           ...            unemployed, with no work experience in the las...   \n",
       "3           ...            first-line supervisors of farming, fishing, an...   \n",
       "4           ...            property, real estate, and community associati...   \n",
       "\n",
       "   ind     wkswork2 uhrswork                    looking             availble  \\\n",
       "0  607          n/a      n/a  no, did not look for work                  n/a   \n",
       "1  707  14-26 weeks       30  no, did not look for work  no, other reason(s)   \n",
       "2    0          n/a      n/a  no, did not look for work                  n/a   \n",
       "3   27  50-52 weeks       50                        n/a                  n/a   \n",
       "4  707  50-52 weeks       16  no, did not look for work  no, other reason(s)   \n",
       "\n",
       "   inctot incwage        vetstat                vetstatd  \n",
       "0   24800       0  not a veteran     no military service  \n",
       "1  103640  100000  not a veteran     no military service  \n",
       "2   34000       0  not a veteran     no military service  \n",
       "3   37500   37500        veteran                 veteran  \n",
       "4  145000  120000  not a veteran     no military service  \n",
       "\n",
       "[5 rows x 39 columns]"
      ]
     },
     "execution_count": 2,
     "metadata": {},
     "output_type": "execute_result"
    }
   ],
   "source": [
    "df = pd.read_stata(\"../data/raw/usa_00026.dta\")\n",
    "\n",
    "df.head()"
   ]
  },
  {
   "cell_type": "markdown",
   "metadata": {},
   "source": [
    "***\n",
    "We will work with the variable `educd` the detailed version of the educational attainment variable in the American Community Survey."
   ]
  },
  {
   "cell_type": "code",
   "execution_count": 3,
   "metadata": {},
   "outputs": [
    {
     "data": {
      "text/plain": [
       "[some college, but less than 1 year, associate's degree, type not specified, no schooling completed, high school graduate or ged, 1 or more years of college credit, no degree, ..., grade 7, grade 5, grade 2, grade 1, nursery school, preschool]\n",
       "Length: 28\n",
       "Categories (28, object): [no schooling completed < nursery school to grade 4 < nursery school, preschool < kindergarten ... bachelor's degree < master's degree < professional degree beyond a bachelor's degree < doctoral degree]"
      ]
     },
     "execution_count": 3,
     "metadata": {},
     "output_type": "execute_result"
    }
   ],
   "source": [
    "df['educd'].unique()"
   ]
  },
  {
   "cell_type": "markdown",
   "metadata": {},
   "source": [
    "to __access__ the attributes for categorical variables you use the `.cat` __accessor__. "
   ]
  },
  {
   "cell_type": "code",
   "execution_count": 4,
   "metadata": {},
   "outputs": [
    {
     "name": "stdout",
     "output_type": "stream",
     "text": [
      "Index(['no schooling completed', 'nursery school to grade 4',\n",
      "       'nursery school, preschool', 'kindergarten', 'grade 1', 'grade 2',\n",
      "       'grade 3', 'grade 4', 'grade 5 or 6', 'grade 5', 'grade 6',\n",
      "       'grade 7 or 8', 'grade 7', 'grade 8', 'grade 9', 'grade 10', 'grade 11',\n",
      "       '12th grade, no diploma', 'high school graduate or ged',\n",
      "       'regular high school diploma', 'ged or alternative credential',\n",
      "       'some college, but less than 1 year',\n",
      "       '1 or more years of college credit, no degree',\n",
      "       'associate's degree, type not specified', 'bachelor's degree',\n",
      "       'master's degree', 'professional degree beyond a bachelor's degree',\n",
      "       'doctoral degree'],\n",
      "      dtype='object')\n"
     ]
    }
   ],
   "source": [
    "print(df['educd'].cat.categories)"
   ]
  },
  {
   "cell_type": "markdown",
   "metadata": {},
   "source": [
    "Not all categories are _ordered_ but luckily ours are. if you noticed the output of `df['educd'].unique()` showed you the order of these categories. \n",
    "\n",
    "We can use this __order__ attribute to compare values with `<` and `>` as if they were numeric values.\n",
    "\n",
    "try this\n",
    "```python\n",
    "df[df['educd'] > \"master's degree\"].head()\n",
    "```"
   ]
  },
  {
   "cell_type": "code",
   "execution_count": null,
   "metadata": {},
   "outputs": [],
   "source": []
  },
  {
   "cell_type": "markdown",
   "metadata": {},
   "source": [
    "We can use these comparison to create our `educ_attainment` variable."
   ]
  },
  {
   "cell_type": "code",
   "execution_count": null,
   "metadata": {},
   "outputs": [],
   "source": [
    "# anything above a BA is advanced\n",
    "df.loc[(df['educd'] > \"bachelor's degree\"),'educ_attainment'] = 'advanced degree'\n",
    "\n",
    "# if it's a bachelor's degree code it as bachelor\n",
    "df.loc[(df['educd'] == \"bachelor's degree\"),'educ_attainment'] = 'bachelor'\n",
    "\n",
    "# if it's less than a bachelor's degree AND greater than a ged or alternative credential code it as some college\n",
    "df.loc[((df['educd'] < \"bachelor's degree\") & (df['educd'] > \"ged or alternative credential\")),'educ_attainment'] = 'some college'\n",
    "\n",
    "# if it's ged or alternative credential OR high school graduate or ged code it as hs grad\n",
    "df.loc[((df['educd'] == \"ged or alternative credential\") | (df['educd'] == 'high school graduate or ged')),'educ_attainment'] = 'hs grad'\n",
    "\n",
    "# if it's less than high school graduate or ged code it as no hs\n",
    "df.loc[(df['educd'] < \"high school graduate or ged\"),'educ_attainment'] = 'no hs'\n",
    "\n",
    "# With this we grab our df['educ_attainment'] column and we make it a Categorical series then assign it back to df['educ_attainment']\n",
    "df['educ_attainment'] = pd.Categorical(df['educ_attainment'], categories=['no hs', 'hs grad', 'some college', 'bachelor', 'advanced degree'], ordered = True)\n",
    "\n",
    "df.head()"
   ]
  },
  {
   "cell_type": "markdown",
   "metadata": {},
   "source": [
    "Now we do something similar for `citizen`"
   ]
  },
  {
   "cell_type": "code",
   "execution_count": null,
   "metadata": {},
   "outputs": [],
   "source": [
    "df['citizen'].cat.categories"
   ]
  },
  {
   "cell_type": "code",
   "execution_count": null,
   "metadata": {},
   "outputs": [],
   "source": [
    "df['nativity'] = 'foreign born'\n",
    "df.loc[(df['citizen'] < 'naturalized citizen'), 'nativity'] = 'native'"
   ]
  },
  {
   "cell_type": "code",
   "execution_count": null,
   "metadata": {},
   "outputs": [],
   "source": [
    "education = df.groupby(['year','nativity','educ_attainment'])['perwt'].sum().to_frame()"
   ]
  },
  {
   "cell_type": "code",
   "execution_count": null,
   "metadata": {},
   "outputs": [],
   "source": [
    "education_pct = education.groupby(['year', 'nativity']).apply(lambda x: x/x.sum()) # this is a more advanced technique to grab the percentages of each group\n",
    "\n",
    "education_pct.style.format('{:.2%}')"
   ]
  },
  {
   "cell_type": "code",
   "execution_count": null,
   "metadata": {},
   "outputs": [],
   "source": [
    "import altair as alt"
   ]
  },
  {
   "cell_type": "code",
   "execution_count": null,
   "metadata": {},
   "outputs": [],
   "source": [
    "data = education_pct.reset_index()\n",
    "data.columns = ['year', 'nativity', 'ed_att', 'pctg']\n",
    "alt.Chart(data).mark_bar().encode(\n",
    "    x = alt.X('nativity:O'),\n",
    "    y = alt.Y('pctg:Q', scale = alt.Scale(domain=[0,1]), axis = alt.Axis(format=\"%\")),\n",
    "    color = alt.Color('ed_att:N'),\n",
    "    column = alt.Column('year:O')\n",
    ")"
   ]
  },
  {
   "cell_type": "code",
   "execution_count": null,
   "metadata": {},
   "outputs": [],
   "source": []
  }
 ],
 "metadata": {
  "kernelspec": {
   "display_name": "Python 3",
   "language": "python",
   "name": "python3"
  },
  "language_info": {
   "codemirror_mode": {
    "name": "ipython",
    "version": 3
   },
   "file_extension": ".py",
   "mimetype": "text/x-python",
   "name": "python",
   "nbconvert_exporter": "python",
   "pygments_lexer": "ipython3",
   "version": "3.6.5"
  }
 },
 "nbformat": 4,
 "nbformat_minor": 2
}
