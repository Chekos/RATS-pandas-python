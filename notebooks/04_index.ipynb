{
 "cells": [
  {
   "cell_type": "markdown",
   "metadata": {},
   "source": [
    "## Other examples\n",
    "\n",
    "After going over the [bee notebook](02_case-study.ipynb) and the [solutions](03_solutions.ipynb), you can explore other examples here:\n",
    "\n",
    "* [__Getting data from an API__](ACS_API.ipynb)\n",
    "* [__an OLS regression with `statsmodels`__](OLS_regression.ipynb)\n",
    "* [__Working with `categorical` data__](Categoricals.ipynb)\n",
    "* [__create an interactive visualization with `altair` and `ipywidgets`__](interactive.ipynb)"
   ]
  },
  {
   "cell_type": "markdown",
   "metadata": {},
   "source": [
    "***\n",
    "## Resources\n",
    "\n",
    "#### pandas:\n",
    "- [__OLS regression using statsmodels__](https://www.statsmodels.org/dev/example_formulas.html)\n",
    "- [__Pandas' docs \"10 Minutes to pandas\"__](https://pandas.pydata.org/pandas-docs/stable/10min.html)\n",
    "- [__Real Python's \"Python Pandas: Tricks & Tips\"__](https://realpython.com/python-pandas-tricks/)\n",
    "- [__Real Python's \"Python First Steps\"__](https://realpython.com/python-first-steps/)\n",
    "- [__`Pandas` comparison to `stata`__](https://pandas.pydata.org/pandas-docs/stable/comparison_with_stata.html)\n",
    "\n",
    "#### data:\n",
    "- [__World Bank's new data catalog__](datacatalog.worldbank.org)\n",
    "  - [__blog post__](https://medium.com/world-of-opportunity/5-reasons-to-check-out-the-world-bank-new-data-catalog-e342f3889cc2)\n",
    ">\"_The World Bank's new data catalog transforms the way we manage data. It provides access to over 3,000 datasets and 14,000 indicators and includes microdata, time series statistics, and geospatial data._\"\n",
    "\n",
    "#### PDFs:\n",
    "- __cheatsheets__\n",
    "  - [__importing data with python__](../pdfs/cheatsheets/Importing_Data_Python_Cheat_Sheet.pdf)\n",
    "  - [__`pandas` pt 1__](../pdfs/cheatsheets/PandasPythonForDataScience.pdf)\n",
    "  - [__`pandas` pt 2__](../pdfs/cheatsheets/Python_Pandas_Cheat_Sheet_2.pdf)\n",
    "  - [__`seaborn` (visualization)__](../pdfs/cheatsheets/Python_Seaborn_Cheat_Sheet.pdf)\n",
    "- [__`pandas` cookbook__](../pdfs/pandas-cookbook/)"
   ]
  }
 ],
 "metadata": {
  "kernelspec": {
   "display_name": "Python 3",
   "language": "python",
   "name": "python3"
  },
  "language_info": {
   "codemirror_mode": {
    "name": "ipython",
    "version": 3
   },
   "file_extension": ".py",
   "mimetype": "text/x-python",
   "name": "python",
   "nbconvert_exporter": "python",
   "pygments_lexer": "ipython3",
   "version": "3.6.5"
  }
 },
 "nbformat": 4,
 "nbformat_minor": 2
}
