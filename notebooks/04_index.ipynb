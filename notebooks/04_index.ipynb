{
 "cells": [
  {
   "cell_type": "markdown",
   "metadata": {},
   "source": [
    "## Other examples\n",
    "\n",
    "After going over the [bee notebook](02_case-study.ipynb) and the [solutions](03_solutions.ipynb), you can explore other examples here:\n",
    "\n",
    "* [Getting data from an API](ACS_API.ipynb)\n",
    "* [an OLS regression with `statsmodels`](OLS_regression.ipynb)\n",
    "* [Working with `categorical` data](Categoricals.ipynb)\n",
    "* [create an interactive visualization with `altair` and `ipywidgets`](interactive.ipynb)"
   ]
  }
 ],
 "metadata": {
  "kernelspec": {
   "display_name": "Python 3",
   "language": "python",
   "name": "python3"
  },
  "language_info": {
   "codemirror_mode": {
    "name": "ipython",
    "version": 3
   },
   "file_extension": ".py",
   "mimetype": "text/x-python",
   "name": "python",
   "nbconvert_exporter": "python",
   "pygments_lexer": "ipython3",
   "version": "3.6.5"
  }
 },
 "nbformat": 4,
 "nbformat_minor": 2
}
