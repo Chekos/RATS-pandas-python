{
 "cells": [
  {
   "cell_type": "markdown",
   "metadata": {},
   "source": [
    "# why python?"
   ]
  },
  {
   "cell_type": "code",
   "execution_count": null,
   "metadata": {},
   "outputs": [],
   "source": [
    "import this"
   ]
  },
  {
   "cell_type": "markdown",
   "metadata": {},
   "source": [
    "### quick reminder\n",
    "\n",
    "`shift + tab` to run a cell if you are **in** the cell. <br>\n",
    "click the `play` button on the left"
   ]
  },
  {
   "cell_type": "markdown",
   "metadata": {},
   "source": [
    "#### data types in python\n",
    "\n",
    "1. `list()` - lists use `[]`. For example,\n",
    "  * my_list = [0, 1, 3, 'oranges', ['my_name', 'my_lastname'], 4.5]\n",
    "2. `dict()` dictionaries use `{}` and they have `key: value` pairs. For example,\n",
    "  * my_dictionary = {\"name\": \"John\", \"lastname\": \"Snow\", \"age\": 24, \"status\": \"dead\"}\n",
    "3. `tuple()` - tuples use `()` and each value is separated by a comma. They are like lists but immutable.\n",
    "  * my_tuple = (\"John\", \"Snow\", 24, \"dead\")\n",
    "4. variables - `int`, `float`, `string`, `bool`. Like other languages, they have operators: `* + - == != %` "
   ]
  },
  {
   "cell_type": "markdown",
   "metadata": {},
   "source": [
    "access their data with `[]`. For example,"
   ]
  },
  {
   "cell_type": "code",
   "execution_count": null,
   "metadata": {},
   "outputs": [],
   "source": [
    "my_list = [0,1,2,3,4,5]\n",
    "\n",
    "my_list[3]\n",
    "\n",
    "# my_list[-1]"
   ]
  },
  {
   "cell_type": "markdown",
   "metadata": {},
   "source": [
    "each of them have special `methods` which you access with `dot notation`. For example,"
   ]
  },
  {
   "cell_type": "code",
   "execution_count": null,
   "metadata": {},
   "outputs": [],
   "source": [
    "my_word = 'hi'"
   ]
  },
  {
   "cell_type": "code",
   "execution_count": null,
   "metadata": {},
   "outputs": [],
   "source": [
    "my_word.capitalize() ## \"returns\" your variable my_word capitalized. Doesn't save the new word to my_word"
   ]
  },
  {
   "cell_type": "code",
   "execution_count": null,
   "metadata": {},
   "outputs": [],
   "source": [
    "my_word"
   ]
  },
  {
   "cell_type": "code",
   "execution_count": null,
   "metadata": {},
   "outputs": [],
   "source": [
    "my_word * 4"
   ]
  },
  {
   "cell_type": "markdown",
   "metadata": {},
   "source": [
    "***\n",
    "In `jupyter` you can use `tab` to see the available methods. "
   ]
  },
  {
   "cell_type": "code",
   "execution_count": null,
   "metadata": {},
   "outputs": [],
   "source": [
    "my_word."
   ]
  },
  {
   "cell_type": "markdown",
   "metadata": {},
   "source": [
    "functions require `()` to be called. If you are calling a function (like `my_word.upper()`) make sure you add the parentheses at the end.\n",
    "***"
   ]
  },
  {
   "cell_type": "markdown",
   "metadata": {},
   "source": [
    "### importing libraries\n",
    "\n",
    "One of the great things about `python` is the huge amount of `libraries` or modules available. (kind of like `ssc` in `stata`\n",
    "\n",
    "`python` already comes with a few packages like `math` or `datetime`. You **import** these modules only when you need to use them in your program. For example,"
   ]
  },
  {
   "cell_type": "code",
   "execution_count": null,
   "metadata": {},
   "outputs": [],
   "source": [
    "import datetime\n",
    "\n",
    "today = datetime.datetime.today()\n",
    "\n",
    "print(today)"
   ]
  },
  {
   "cell_type": "markdown",
   "metadata": {},
   "source": [
    "the variable `today` is a datetime.datetime object and it has it's own properties and methods."
   ]
  },
  {
   "cell_type": "code",
   "execution_count": null,
   "metadata": {},
   "outputs": [],
   "source": [
    "type(today)"
   ]
  },
  {
   "cell_type": "code",
   "execution_count": null,
   "metadata": {},
   "outputs": [],
   "source": [
    "today.weekday()"
   ]
  },
  {
   "cell_type": "markdown",
   "metadata": {},
   "source": [
    "***\n",
    "And with that we move on to `pandas`"
   ]
  }
 ],
 "metadata": {
  "kernelspec": {
   "display_name": "Python 3",
   "language": "python",
   "name": "python3"
  },
  "language_info": {
   "codemirror_mode": {
    "name": "ipython",
    "version": 3
   },
   "file_extension": ".py",
   "mimetype": "text/x-python",
   "name": "python",
   "nbconvert_exporter": "python",
   "pygments_lexer": "ipython3",
   "version": "3.6.6"
  }
 },
 "nbformat": 4,
 "nbformat_minor": 2
}
