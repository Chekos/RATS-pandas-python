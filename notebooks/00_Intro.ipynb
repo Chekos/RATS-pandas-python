{
 "cells": [
  {
   "cell_type": "markdown",
   "metadata": {},
   "source": [
    "![ppic_logo](http://www.ppic.org/wp-content/uploads/ppiclogo.svg)\n",
    "# RATS, pandas, python -- oh my! \n",
    "###### August 31st, 2018 @ PPIC\n",
    "***\n",
    "### why python?\n",
    "`python` is a _powerful_ and _readable_ programming language that is becoming more and more popular in the scientific computing community. "
   ]
  },
  {
   "cell_type": "code",
   "execution_count": null,
   "metadata": {},
   "outputs": [],
   "source": [
    "# run this cell \n",
    "import this"
   ]
  },
  {
   "cell_type": "markdown",
   "metadata": {},
   "source": [
    "***\n",
    "#### quick reminder\n",
    "__to run a cell__: <br>\n",
    "`shift + tab` **in** the cell. <br>\n",
    "click the `play` button on the left. <br>\n",
    "\n",
    "__to create a new cell__: <br>\n",
    "click the __+__ button on the menu bar on top. <br>\n",
    "\n",
    "__to change the _type_ of cell:__ <br>\n",
    "use the drop down menu on the menu bar on top. ___tip___ use only markdown or code.\n",
    "\n",
    "__to delete a cell__: <br>\n",
    "use the scissors button on the menu bar on top.\n",
    "***"
   ]
  },
  {
   "cell_type": "markdown",
   "metadata": {},
   "source": [
    "### (common) Data structures in python\n",
    "\n",
    "_suggestion_: create a code cell below each example and __write__ the code to practice. You could copy and paste the code into the cell too but it's better to write the code yourself. "
   ]
  },
  {
   "cell_type": "markdown",
   "metadata": {},
   "source": [
    "#### `list()` - lists use `[]`. For example,\n",
    "\n",
    "```python\n",
    "my_list = [0, 1, 3, 'oranges', ['my_name', 'my_lastname'], 4.5]\n",
    "```\n",
    "\n",
    "_note_: `lists` can have different types of data in them. The list above has `integers`, `floats`, `strings`, and even a `list` inside."
   ]
  },
  {
   "cell_type": "markdown",
   "metadata": {},
   "source": [
    "#### `dict()` dictionaries use `{}` and they have `key: value` pairs. For example,\n",
    "\n",
    "```python\n",
    "my_dictionary = {\"name\": \"John\", \"lastname\": \"Snow\", \"age\": 24, \"status\": \"dead\"}\n",
    "```\n",
    "\n",
    "you can access their `values` by calling their `keys`. For example,\n",
    "\n",
    "```python\n",
    "my_dictionary[\"name\"]\n",
    "```\n",
    "\n",
    "they are common in the web and can come in handy, if you know how to use them, when doing data analysis with `python`. For now, the most important thing is to know their syntax."
   ]
  },
  {
   "cell_type": "markdown",
   "metadata": {},
   "source": [
    "#### `tuple()` - tuples use `()` and each value is separated by a comma. They are like `lists` but immutable.\n",
    "```python\n",
    "my_tuple = (\"John\", \"Snow\", 24, \"dead\")\n",
    "```\n",
    "\n",
    "_not super common in our work_."
   ]
  },
  {
   "cell_type": "markdown",
   "metadata": {},
   "source": [
    "#### set() - sets use `{}` like dictionaries but they don't have key value pairs and do not store repeated values. For example,\n",
    "```python\n",
    "my_set = {0,0,0,3,2,1,4,6,7,8,9,9} # create the set\n",
    "my_set # call the set\n",
    "```\n",
    "would return\n",
    "```python\n",
    "{0, 1, 2, 3, 4, 6, 7, 8, 9}\n",
    "```"
   ]
  },
  {
   "cell_type": "markdown",
   "metadata": {},
   "source": [
    "__variables in python have types `int`, `float`, `string`, `bool` (among many others). Like other languages, they have operators: `* + - == != %`__"
   ]
  },
  {
   "cell_type": "markdown",
   "metadata": {},
   "source": [
    "***\n",
    "##### `list` example\n",
    "access their data with `[]`"
   ]
  },
  {
   "cell_type": "code",
   "execution_count": null,
   "metadata": {},
   "outputs": [],
   "source": [
    "my_list = [1,2,3,4,5]\n",
    "\n",
    "my_list[3]\n",
    "\n",
    "# my_list[-1] # uncomment this code and see what it returns"
   ]
  },
  {
   "cell_type": "markdown",
   "metadata": {},
   "source": [
    "each of them have special `methods` which you access with `dot notation`. For example,"
   ]
  },
  {
   "cell_type": "code",
   "execution_count": null,
   "metadata": {},
   "outputs": [],
   "source": [
    "my_word = 'hi'"
   ]
  },
  {
   "cell_type": "code",
   "execution_count": null,
   "metadata": {},
   "outputs": [],
   "source": [
    "# hit tab after the period to see what methods strings have available\n",
    "my_word."
   ]
  },
  {
   "cell_type": "code",
   "execution_count": null,
   "metadata": {},
   "outputs": [],
   "source": [
    "my_word.capitalize() ## \"returns\" your variable my_word capitalized. Doesn't save the new word to my_word"
   ]
  },
  {
   "cell_type": "code",
   "execution_count": null,
   "metadata": {},
   "outputs": [],
   "source": [
    "my_word"
   ]
  },
  {
   "cell_type": "code",
   "execution_count": null,
   "metadata": {},
   "outputs": [],
   "source": [
    "# if you 'multiply' a string you are concatenanting it \n",
    "my_word * 4"
   ]
  },
  {
   "cell_type": "markdown",
   "metadata": {},
   "source": [
    "***\n",
    "In `jupyter` you can use `tab` to see the available methods. \n",
    "\n",
    "Now that you've seen what `methods` are available to `strings`, assign a numeric value to the new variable `my_var` and see what options are available for numbers instead of strings."
   ]
  },
  {
   "cell_type": "code",
   "execution_count": null,
   "metadata": {},
   "outputs": [],
   "source": [
    "my_var = "
   ]
  },
  {
   "cell_type": "code",
   "execution_count": null,
   "metadata": {},
   "outputs": [],
   "source": [
    "my_var."
   ]
  },
  {
   "cell_type": "markdown",
   "metadata": {},
   "source": [
    "***\n",
    "__note__: functions require `()` to be called. If you are calling a function (like `my_word.upper()`) make sure you add the parentheses at the end.\n",
    "***"
   ]
  },
  {
   "cell_type": "markdown",
   "metadata": {},
   "source": [
    "### importing libraries\n",
    "\n",
    "One of the great things about `python` is the huge amount of `libraries` (or modules or packages) available. (kind of like `ssc` in `stata`)\n",
    "\n",
    "`python` already comes with a few packages like `math` or `datetime`. You **import** these modules only when you need to use them in your program. For example,"
   ]
  },
  {
   "cell_type": "code",
   "execution_count": null,
   "metadata": {},
   "outputs": [],
   "source": [
    "import datetime\n",
    "\n",
    "today = datetime.datetime.today()\n",
    "\n",
    "print(today)"
   ]
  },
  {
   "cell_type": "markdown",
   "metadata": {},
   "source": [
    "the variable `today` is a datetime.datetime object and it has it's own properties and methods."
   ]
  },
  {
   "cell_type": "markdown",
   "metadata": {},
   "source": [
    "***\n",
    "__note__: the code `datetime.datetime.today()` translates to the english equivalent \"from the library \"datetime\" grab the module \"datetime\" and use the function 'today'\". <br>\n",
    "People refer to `libraries` or `packages` as _modules_ sometimes but more often than not people use _modules_ to refer to groups of _functions_ you can get from `libraries`. What would be chapters to a book. \n",
    "\n",
    "__btw__ if you think it's confusing to have a library called `datetime` with a module inside named `datetime` you're on your way to being a great `python` programmer. \n",
    "***"
   ]
  },
  {
   "cell_type": "code",
   "execution_count": null,
   "metadata": {},
   "outputs": [],
   "source": [
    "type(today)"
   ]
  },
  {
   "cell_type": "code",
   "execution_count": null,
   "metadata": {},
   "outputs": [],
   "source": [
    "today.weekday()"
   ]
  },
  {
   "cell_type": "markdown",
   "metadata": {},
   "source": [
    "***\n",
    "__note__: you can `import` libraries (aka modules aka packages) `as` anything you want. You could have typed\n",
    "```python\n",
    "import datetime as my_favorite_library_in_the_whole_world\n",
    "``` \n",
    "\n",
    "and use it as such\n",
    "```python\n",
    "today = my_favorite_library_in_the_whole_world.datetime.today()\n",
    "\n",
    "print(today)`\n",
    "```"
   ]
  },
  {
   "cell_type": "markdown",
   "metadata": {},
   "source": [
    "***\n",
    "And with that we move on to `pandas` <br>\n",
    "[next notebook](01_pandas.ipynb)"
   ]
  }
 ],
 "metadata": {
  "kernelspec": {
   "display_name": "Python 3",
   "language": "python",
   "name": "python3"
  },
  "language_info": {
   "codemirror_mode": {
    "name": "ipython",
    "version": 3
   },
   "file_extension": ".py",
   "mimetype": "text/x-python",
   "name": "python",
   "nbconvert_exporter": "python",
   "pygments_lexer": "ipython3",
   "version": "3.6.5"
  }
 },
 "nbformat": 4,
 "nbformat_minor": 2
}
